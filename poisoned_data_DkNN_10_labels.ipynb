{
  "nbformat": 4,
  "nbformat_minor": 0,
  "metadata": {
    "colab": {
      "name": "Copy of poisoned_data_DkNN",
      "provenance": [],
      "collapsed_sections": [],
      "toc_visible": true,
      "machine_shape": "hm"
    },
    "kernelspec": {
      "name": "python3",
      "display_name": "Python 3"
    },
    "accelerator": "GPU"
  },
  "cells": [
    {
      "cell_type": "markdown",
      "metadata": {
        "id": "vkFfaHmXHKUQ"
      },
      "source": [
        "# PyTorch Implementation of the paper 'Deep k-Nearest Neighbors'\n"
      ]
    },
    {
      "cell_type": "markdown",
      "metadata": {
        "id": "6NAXG9XqbyFP"
      },
      "source": [
        "                                                                                                                                                                                                                                                                                      This notebook contains a PyTorch implementation of the Deep k-Nearest Neighbors method introduced by Papernot & McDaniel (2018), which makes it possible to receive confidence scores for Deep Neural Network based predictions, that are more reliable than softmax scores. The paper can be found [here](https://arxiv.org/abs/1803.04765). The autors have also provided a basic implementation Tensorflow, which can be found [here](https://github.com/tensorflow/cleverhans/blob/master/cleverhans/model_zoo/deep_k_nearest_neighbors/dknn.py). However, this implementation is outdated. Hence, re-implemented the code here (in PyTorch)."
      ]
    },
    {
      "cell_type": "markdown",
      "metadata": {
        "id": "bTRgYdUwI_F6"
      },
      "source": [
        "First of all, a few package need to be installed. Besides Pytorch (pip packages torch and torchvision) we also need to install falconn and faiss. These two packages were used by Papernot and McDaniel to find the k-Nearest-Neighbors in high-dimensional spaces through local sensitive hashing (LSH). If you want to find our more about local sensitive hashing you can take a look [here](https://towardsdatascience.com/understanding-locality-sensitive-hashing-49f6d1f6134), [here](https://blog.mayflower.de/6498-lsh-nearest-neighbour-search.html), [here](https://www.youtube.com/watch?v=356GoYkmYKg&list=PLBv09BD7ez_6xoNh_luPdBmDCIHOQ3j7F) and [here](https://www.youtube.com/watch?v=gHdbqsDK9YY&list=PLBv09BD7ez_48heon5Az-TsyoXVYOJtDZ). However, I need to mention that falconn seems not to be under development anymore. Hence, someone might want to switch to another library providing local sensitive hashing in the future."
      ]
    },
    {
      "cell_type": "code",
      "metadata": {
        "id": "ExlhM-ej9utH",
        "colab": {
          "base_uri": "https://localhost:8080/"
        },
        "outputId": "90983fc1-27aa-43c9-a137-f51df12e0a71"
      },
      "source": [
        "          ! apt-get install libomp-dev\n",
        "\n",
        "! pip uninstall torch torchvision -y\n",
        "! pip install torch==1.4.0 torchvision==0.5.0\n",
        "! pip install falconn==1.3.1\n",
        "! pip install faiss==1.5.3"
      ],
      "execution_count": null,
      "outputs": [
        {
          "output_type": "stream",
          "text": [
            "Reading package lists... Done\n",
            "Building dependency tree       \n",
            "Reading state information... Done\n",
            "libomp-dev is already the newest version (5.0.1-1).\n",
            "The following package was automatically installed and is no longer required:\n",
            "  libnvidia-common-460\n",
            "Use 'apt autoremove' to remove it.\n",
            "0 upgraded, 0 newly installed, 0 to remove and 34 not upgraded.\n",
            "Uninstalling torch-1.4.0:\n",
            "  Successfully uninstalled torch-1.4.0\n",
            "Uninstalling torchvision-0.5.0:\n",
            "  Successfully uninstalled torchvision-0.5.0\n",
            "Collecting torch==1.4.0\n",
            "  Using cached https://files.pythonhosted.org/packages/1a/3b/fa92ece1e58a6a48ec598bab327f39d69808133e5b2fb33002ca754e381e/torch-1.4.0-cp37-cp37m-manylinux1_x86_64.whl\n",
            "Collecting torchvision==0.5.0\n",
            "  Using cached https://files.pythonhosted.org/packages/1c/32/cb0e4c43cd717da50258887b088471568990b5a749784c465a8a1962e021/torchvision-0.5.0-cp37-cp37m-manylinux1_x86_64.whl\n",
            "Requirement already satisfied: numpy in /usr/local/lib/python3.7/dist-packages (from torchvision==0.5.0) (1.20.2)\n",
            "Requirement already satisfied: six in /usr/local/lib/python3.7/dist-packages (from torchvision==0.5.0) (1.15.0)\n",
            "Requirement already satisfied: pillow>=4.1.1 in /usr/local/lib/python3.7/dist-packages (from torchvision==0.5.0) (7.1.2)\n",
            "\u001b[31mERROR: torchtext 0.9.1 has requirement torch==1.8.1, but you'll have torch 1.4.0 which is incompatible.\u001b[0m\n",
            "Installing collected packages: torch, torchvision\n",
            "Successfully installed torch-1.4.0 torchvision-0.5.0\n",
            "Requirement already satisfied: falconn==1.3.1 in /usr/local/lib/python3.7/dist-packages (1.3.1)\n",
            "Requirement already satisfied: faiss==1.5.3 in /usr/local/lib/python3.7/dist-packages (1.5.3)\n",
            "Requirement already satisfied: numpy in /usr/local/lib/python3.7/dist-packages (from faiss==1.5.3) (1.20.2)\n"
          ],
          "name": "stdout"
        }
      ]
    },
    {
      "cell_type": "code",
      "metadata": {
        "colab": {
          "base_uri": "https://localhost:8080/",
          "height": 348
        },
        "id": "QnjEeHFeGmLW",
        "outputId": "a9fa0583-31f2-4675-d17c-98c1af1c41ed"
      },
      "source": [
        "!pip install numpy==1.16.1"
      ],
      "execution_count": null,
      "outputs": [
        {
          "output_type": "stream",
          "text": [
            "Collecting numpy==1.16.1\n",
            "  Using cached https://files.pythonhosted.org/packages/61/57/07c49e1a6d2706fb7336b3fb11dd285c1e96535c80833d7524f002f57086/numpy-1.16.1-cp37-cp37m-manylinux1_x86_64.whl\n",
            "\u001b[31mERROR: torchtext 0.9.1 has requirement torch==1.8.1, but you'll have torch 1.4.0 which is incompatible.\u001b[0m\n",
            "\u001b[31mERROR: tensorflow 2.4.1 has requirement numpy~=1.19.2, but you'll have numpy 1.16.1 which is incompatible.\u001b[0m\n",
            "\u001b[31mERROR: secml 0.15.dev0+0c0b3941 has requirement numpy>=1.17, but you'll have numpy 1.16.1 which is incompatible.\u001b[0m\n",
            "\u001b[31mERROR: pyarrow 3.0.0 has requirement numpy>=1.16.6, but you'll have numpy 1.16.1 which is incompatible.\u001b[0m\n",
            "\u001b[31mERROR: datascience 0.10.6 has requirement folium==0.2.1, but you'll have folium 0.8.3 which is incompatible.\u001b[0m\n",
            "\u001b[31mERROR: astropy 4.2.1 has requirement numpy>=1.17, but you'll have numpy 1.16.1 which is incompatible.\u001b[0m\n",
            "\u001b[31mERROR: albumentations 0.1.12 has requirement imgaug<0.2.7,>=0.2.5, but you'll have imgaug 0.2.9 which is incompatible.\u001b[0m\n",
            "Installing collected packages: numpy\n",
            "  Found existing installation: numpy 1.20.2\n",
            "    Uninstalling numpy-1.20.2:\n",
            "      Successfully uninstalled numpy-1.20.2\n",
            "Successfully installed numpy-1.16.1\n"
          ],
          "name": "stdout"
        },
        {
          "output_type": "display_data",
          "data": {
            "application/vnd.colab-display-data+json": {
              "pip_warning": {
                "packages": [
                  "numpy"
                ]
              }
            }
          },
          "metadata": {
            "tags": []
          }
        }
      ]
    },
    {
      "cell_type": "code",
      "metadata": {
        "id": "ynRTCtFTGjxo"
      },
      "source": [
        "\n",
        "%%capture --no-stderr --no-display\n",
        "# NBVAL_IGNORE_OUTPUT\n",
        "\n",
        "try:\n",
        "  import secml\n",
        "except ImportError:\n",
        "  %pip install git+https://gitlab.com/secml/secml"
      ],
      "execution_count": null,
      "outputs": []
    },
    {
      "cell_type": "markdown",
      "metadata": {
        "id": "VW20mnSsLAEI"
      },
      "source": [
        "Next, let's load the required modules from the packages. Furthermore, for reproducibility reasons I also like to print out the package version that are used here and some GPU information if a GPU is available (since I only do the testing using MNIST a CPU should work here as well)."
      ]
    },
    {
      "cell_type": "code",
      "metadata": {
        "id": "2PTvaJ7Q9yo8",
        "colab": {
          "base_uri": "https://localhost:8080/"
        },
        "outputId": "9b77cccb-1739-4872-dca9-f4ef2677ec74"
      },
      "source": [
        "%reload_ext autoreload\n",
        "%autoreload 2\n",
        "%matplotlib inline\n",
        "\n",
        "import torch\n",
        "import torch.nn as nn\n",
        "import torch.nn.functional as F\n",
        "import torch.optim as optim\n",
        "from torch.utils.data import Dataset, TensorDataset, DataLoader\n",
        "import torchvision\n",
        "from torchvision import transforms\n",
        "import matplotlib\n",
        "import matplotlib.pyplot as plt\n",
        "import pickle\n",
        "import numpy as np\n",
        "import falconn\n",
        "import faiss\n",
        "import platform\n",
        "import enum\n",
        "import copy\n",
        "from bisect import bisect_left\n",
        "import warnings\n",
        "\n",
        "print('python version:      {}'.format(platform.python_version()))\n",
        "print('torch version:       {}'.format(torch.__version__))\n",
        "print('torchvision version: {}'.format(torchvision.__version__))\n",
        "print('numpy version:       {}'.format(np.__version__))\n",
        "print('matplotlib version:  {}'.format(matplotlib.__version__))\n",
        "print('pickle version:      {}'.format(pickle.format_version))\n",
        "\n",
        "use_cuda = torch.cuda.is_available()\n",
        "print('CUDA available:      {}'.format(use_cuda))\n",
        "print('cuDNN enabled:       {}'.format(torch.backends.cudnn.enabled))\n",
        "print('num gpus:            {}'.format(torch.cuda.device_count()))\n",
        "\n",
        "if use_cuda:\n",
        "    print('gpu:                 {}'.format(torch.cuda.get_device_name(0)))"
      ],
      "execution_count": null,
      "outputs": [
        {
          "output_type": "stream",
          "text": [
            "python version:      3.7.10\n",
            "torch version:       1.4.0\n",
            "torchvision version: 0.5.0\n",
            "numpy version:       1.20.2\n",
            "matplotlib version:  3.2.2\n",
            "pickle version:      4.0\n",
            "CUDA available:      True\n",
            "cuDNN enabled:       True\n",
            "num gpus:            1\n",
            "gpu:                 Tesla T4\n"
          ],
          "name": "stdout"
        }
      ]
    },
    {
      "cell_type": "markdown",
      "metadata": {
        "id": "yb63e9GR-Aii"
      },
      "source": [
        "Put CUDNN to deterministic and set seed values for [reproducibility reasons](https://pytorch.org/docs/stable/notes/randomness.html)."
      ]
    },
    {
      "cell_type": "code",
      "metadata": {
        "id": "yMH4t0VK9-Cp"
      },
      "source": [
        "torch.backends.cudnn.deterministic = True\n",
        "torch.backends.cudnn.benchmark = False\n",
        "\n",
        "random_seed = 0\n",
        "torch.manual_seed(random_seed)\n",
        "np.random.seed(random_seed)"
      ],
      "execution_count": null,
      "outputs": []
    },
    {
      "cell_type": "markdown",
      "metadata": {
        "id": "ELNzocTU-DwE"
      },
      "source": [
        "Let's set some parameters for the Deep kNN."
      ]
    },
    {
      "cell_type": "code",
      "metadata": {
        "id": "7dBVyKcX4qNw"
      },
      "source": [
        "num_epochs = 6            # number of training epochs\n",
        "batch_size_train = 500    # batch size for training\n",
        "batch_size_test = 1000    # batch size for testing\n",
        "learning_rate = 0.001     # learning rate for training\n",
        "calibset_size = 750       # size of the calibration set for DkNN\n",
        "neighbors = 75            # number of nearest neighbors for DkNN\n",
        "number_bits = 17          # number of bits for LSH for DkNN\n",
        "\n",
        "log_interval = 10         # printing training statistics after 10 iterations"
      ],
      "execution_count": null,
      "outputs": []
    },
    {
      "cell_type": "markdown",
      "metadata": {
        "id": "Wik1VDmc-GfA"
      },
      "source": [
        "## Data"
      ]
    },
    {
      "cell_type": "markdown",
      "metadata": {
        "id": "U7c2zcL7yVUC"
      },
      "source": [
        "### Specify Dataset"
      ]
    },
    {
      "cell_type": "markdown",
      "metadata": {
        "id": "eoGsnIwryaom"
      },
      "source": [
        "Define data transform functions for training and test set."
      ]
    },
    {
      "cell_type": "code",
      "metadata": {
        "id": "VmUEEiqvyRj4"
      },
      "source": [
        "transform = transforms.Compose([\n",
        "    transforms.ToTensor(),\n",
        "    transforms.Normalize((0.1307,), (0.3081,))\n",
        "])"
      ],
      "execution_count": null,
      "outputs": []
    },
    {
      "cell_type": "markdown",
      "metadata": {
        "id": "OQKJcyi_yfkV"
      },
      "source": [
        "Define training and test set."
      ]
    },
    {
      "cell_type": "code",
      "metadata": {
        "id": "TeakmI6Xyf8-"
      },
      "source": [
        "# Training set\n",
        "trainset = torchvision.datasets.MNIST(\n",
        "    root='./data', train=True, download=True, transform=transform\n",
        ")\n",
        "\n",
        "# Test set and calibration set\n",
        "orig_testset = torchvision.datasets.MNIST(\n",
        "    root='./data', train=False, download=True, transform=transform\n",
        ")\n",
        "orig_testset_size = len(orig_testset)\n",
        "\n",
        "testset_size = orig_testset_size - calibset_size\n",
        "testset, calibset = torch.utils.data.random_split(orig_testset, [testset_size, calibset_size])"
      ],
      "execution_count": null,
      "outputs": []
    },
    {
      "cell_type": "markdown",
      "metadata": {
        "id": "xyI4WzgGSJHx"
      },
      "source": [
        "Add poisoned data to the MNIST Train Set"
      ]
    },
    {
      "cell_type": "code",
      "metadata": {
        "id": "iOlzvs2Tb6ch"
      },
      "source": [
        "poisoned_data = np.load('poisoned_data_X.npy')\n",
        "poisoned_data_label = np.load('poisoned_data_Y.npy')\n",
        "\n",
        "poisoned_data_x = torch.Tensor(poisoned_data.reshape(len(poisoned_data),28,28)).byte()\n",
        "poisoned_data_y = torch.Tensor(poisoned_data_label).long()"
      ],
      "execution_count": null,
      "outputs": []
    },
    {
      "cell_type": "code",
      "metadata": {
        "id": "nbi4Zeofct6q"
      },
      "source": [
        "trainset.data = torch.cat((trainset.data,poisoned_data_x),dim=0)\n",
        "trainset.targets = torch.cat((trainset.targets,poisoned_data_y))"
      ],
      "execution_count": null,
      "outputs": []
    },
    {
      "cell_type": "markdown",
      "metadata": {
        "id": "AzgtNQAwymuT"
      },
      "source": [
        "### Load Data"
      ]
    },
    {
      "cell_type": "markdown",
      "metadata": {
        "id": "ZlSfVhWEyxG7"
      },
      "source": [
        "Create train, test and calibration data loader."
      ]
    },
    {
      "cell_type": "code",
      "metadata": {
        "id": "0fi0GzKryxw4"
      },
      "source": [
        "# Create training data loader\n",
        "trainloader = torch.utils.data.DataLoader(\n",
        "    trainset, batch_size=batch_size_train, shuffle=True, num_workers=2\n",
        ")\n",
        "\n",
        "# Create test data loader\n",
        "testloader = torch.utils.data.DataLoader(\n",
        "    testset, batch_size=batch_size_test, shuffle=False, num_workers=2\n",
        ")\n",
        "\n",
        "# Create calib data loader\n",
        "calibloader = torch.utils.data.DataLoader(\n",
        "    calibset, batch_size=calibset_size, shuffle=False, num_workers=2\n",
        ")"
      ],
      "execution_count": null,
      "outputs": []
    },
    {
      "cell_type": "code",
      "metadata": {
        "colab": {
          "base_uri": "https://localhost:8080/"
        },
        "id": "-3RYPPe4TDwQ",
        "outputId": "e043309c-a2e3-447a-c4e9-323d5b231017"
      },
      "source": [
        "trainset"
      ],
      "execution_count": null,
      "outputs": [
        {
          "output_type": "execute_result",
          "data": {
            "text/plain": [
              "Dataset MNIST\n",
              "    Number of datapoints: 60050\n",
              "    Root location: ./data\n",
              "    Split: Train\n",
              "    StandardTransform\n",
              "Transform: Compose(\n",
              "               ToTensor()\n",
              "               Normalize(mean=(0.1307,), std=(0.3081,))\n",
              "           )"
            ]
          },
          "metadata": {
            "tags": []
          },
          "execution_count": 14
        }
      ]
    },
    {
      "cell_type": "markdown",
      "metadata": {
        "id": "Ha-pQCWXb0Iv"
      },
      "source": [
        "Print out the sizes of the datasets."
      ]
    },
    {
      "cell_type": "code",
      "metadata": {
        "id": "F5XTyUe0b31Q",
        "colab": {
          "base_uri": "https://localhost:8080/"
        },
        "outputId": "26216178-7c76-4f96-de3f-e6961f29fe1a"
      },
      "source": [
        "print('trainset size: {}'.format(len(trainloader.dataset)))\n",
        "print('testset size:  {}'.format(len(testloader.dataset)))\n",
        "print('calibset size: {}'.format(len(calibloader.dataset)))"
      ],
      "execution_count": null,
      "outputs": [
        {
          "output_type": "stream",
          "text": [
            "trainset size: 60050\n",
            "testset size:  9250\n",
            "calibset size: 750\n"
          ],
          "name": "stdout"
        }
      ]
    },
    {
      "cell_type": "markdown",
      "metadata": {
        "id": "SvhyHSj_y2Ra"
      },
      "source": [
        "### Display Samples"
      ]
    },
    {
      "cell_type": "code",
      "metadata": {
        "id": "NQBLPagqy2_J"
      },
      "source": [
        "def show_samples(data, targets):\n",
        "    data = data.numpy()\n",
        "    print(\"tensor shape: \" + str(data.shape))\n",
        "    \n",
        "    fig = plt.figure()\n",
        "    for i in range(9):\n",
        "        plt.subplot(3,3,i+1)\n",
        "        plt.tight_layout()\n",
        "        \n",
        "        img = data * 0.3081 + 0.1307  # unnormalize\n",
        "        plt.imshow(img[i][0], cmap='gray', interpolation='none')\n",
        "        plt.title(\"Ground Truth: {}\".format(targets[i]))\n",
        "        \n",
        "        plt.xticks([])\n",
        "        plt.yticks([])"
      ],
      "execution_count": null,
      "outputs": []
    },
    {
      "cell_type": "markdown",
      "metadata": {
        "id": "0kXdGSzry8Ce"
      },
      "source": [
        "Load a few test images and display them."
      ]
    },
    {
      "cell_type": "code",
      "metadata": {
        "id": "woBy6gE-y8YR",
        "colab": {
          "base_uri": "https://localhost:8080/",
          "height": 301
        },
        "outputId": "88f9b4d9-ba90-4afa-e037-bd1d3a2731d1"
      },
      "source": [
        "dataiter = enumerate(testloader)\n",
        "_, (sample_data, sample_targets) = next(dataiter)\n",
        "\n",
        "show_samples(sample_data, sample_targets)"
      ],
      "execution_count": null,
      "outputs": [
        {
          "output_type": "stream",
          "text": [
            "tensor shape: (1000, 1, 28, 28)\n"
          ],
          "name": "stdout"
        },
        {
          "output_type": "display_data",
          "data": {
            "image/png": "[encoded data removed]",
            "text/plain": [
              "<Figure size 432x288 with 9 Axes>"
            ]
          },
          "metadata": {
            "tags": []
          }
        }
      ]
    },
    {
      "cell_type": "markdown",
      "metadata": {
        "id": "8nrEJtUA4vwY"
      },
      "source": [
        "## Define Training and Test Functions"
      ]
    },
    {
      "cell_type": "markdown",
      "metadata": {
        "id": "hqpIuwp2awI9"
      },
      "source": [
        "Let's define the functions for training and testing."
      ]
    },
    {
      "cell_type": "code",
      "metadata": {
        "id": "PgBe_-yy4w-B"
      },
      "source": [
        "def train(num_epochs, model, optim, crit, train_loader, test_loader):\n",
        "    train_losses = []\n",
        "    test_losses = []\n",
        "    test_accs = []\n",
        "    \n",
        "    for epoch in range(1, num_epochs + 1):\n",
        "        model, train_losses = train_one_epoch(epoch, model, optim, crit, train_loader, train_losses)\n",
        "        test_losses, test_accs,_,_ = test(model, crit, test_loader, test_losses, test_accs)\n",
        "        \n",
        "    print('Finished Training')\n",
        "    return train_losses, test_losses, test_accs\n",
        "    \n",
        "\n",
        "def train_one_epoch(epoch_num, model, optim, crit, data_loader, losses):\n",
        "    model.train()\n",
        "    running_loss = 0.0\n",
        "    \n",
        "    for batch_idx, data in enumerate(data_loader):\n",
        "        # Get the inputs; data is a list of [inputs, labels]\n",
        "        inputs, targets = data\n",
        "\n",
        "        if use_cuda:\n",
        "            inputs, targets = inputs.cuda(), targets.cuda()\n",
        "        \n",
        "        # Zero the parameter gradients\n",
        "        optim.zero_grad()\n",
        "        \n",
        "        # Forward + backward + optimize\n",
        "        outputs = model(inputs)\n",
        "        loss = crit(outputs, targets)\n",
        "        loss.backward()\n",
        "        optimizer.step()\n",
        "        \n",
        "        # Print statistics\n",
        "        running_loss += loss.item()\n",
        "        \n",
        "        if batch_idx % log_interval == 0:\n",
        "            dataset_size = len(data_loader.dataset)\n",
        "            used_samples = batch_idx * len(inputs)\n",
        "            train_progress = 100. * batch_idx / len(data_loader)\n",
        "            avg_batch_loss = running_loss / log_interval\n",
        "            \n",
        "            print('Train Epoch: {} [{}/{} ({:.0f}%)]\\tLoss: {:.6f}'.format(\n",
        "                epoch_num, used_samples, dataset_size, train_progress, avg_batch_loss\n",
        "            ))\n",
        "            \n",
        "            losses.append(avg_batch_loss)\n",
        "            running_loss = 0.0\n",
        "            \n",
        "    return model, losses\n",
        "     \n",
        "    \n",
        "def test(model, crit, data_loader, test_losses, test_accs):\n",
        "    model.eval()\n",
        "    correct = 0\n",
        "    test_loss = 0\n",
        "    pred_labels = []\n",
        "    true_labels = []\n",
        "    with torch.no_grad():\n",
        "        for data in data_loader:\n",
        "            # Get the inputs; data is a list of [inputs, labels]\n",
        "            inputs, targets = data\n",
        "\n",
        "            if use_cuda:\n",
        "              inputs, targets = inputs.cuda(), targets.cuda()\n",
        "            \n",
        "            # Forward + loss + correct\n",
        "            outputs = model(inputs)\n",
        "            test_loss += crit(outputs, targets).item()\n",
        "            \n",
        "            _, predicted = torch.max(outputs.data, 1)\n",
        "            correct += (predicted == targets).sum().item()\n",
        "            # print('labels:',predicted.cpu().numpy().astype('int32').shape)\n",
        "\n",
        "            pred_labels += list(predicted.cpu().numpy().astype('int32').flatten())\n",
        "            true_labels += list(targets.cpu().numpy().astype('int32').flatten())\n",
        "\n",
        "    dataset_size = len(data_loader.dataset)\n",
        "    test_loss /= dataset_size\n",
        "    acc = 100. * correct / dataset_size\n",
        "    \n",
        "    test_losses.append(test_loss)\n",
        "    test_accs.append(acc)\n",
        "    \n",
        "    print('\\nTest set: Avg. loss: {:.6f}, Accuracy: {}/{} ({:.2f}%)\\n'.format(\n",
        "        test_loss, correct, dataset_size, acc\n",
        "    ))\n",
        "    \n",
        "    return test_losses,test_accs,pred_labels,true_labels"
      ],
      "execution_count": null,
      "outputs": []
    },
    {
      "cell_type": "markdown",
      "metadata": {
        "id": "_YFZQkAi450A"
      },
      "source": [
        "## Network Architecture"
      ]
    },
    {
      "cell_type": "markdown",
      "metadata": {
        "id": "52b1IG-ra3eH"
      },
      "source": [
        "Let's define the neural network based model architecture for MNIST, that has also been [used by Papernot and McDaniel](https://github.com/tensorflow/cleverhans/blob/master/cleverhans/model_zoo/deep_k_nearest_neighbors/dknn.py)."
      ]
    },
    {
      "cell_type": "code",
      "metadata": {
        "id": "P7Pt-A4Z47aj"
      },
      "source": [
        "class MnistNet(nn.Module):\n",
        "    def __init__(self):\n",
        "        super(MnistNet, self).__init__()\n",
        "        self.conv1 = nn.Conv2d(1, 64, kernel_size=8, stride=2, padding=3)\n",
        "        self.relu1 = nn.ReLU(True)\n",
        "        self.conv2 = nn.Conv2d(64, 128, kernel_size=6, stride=2)\n",
        "        self.relu2 = nn.ReLU(True)\n",
        "        self.conv3 = nn.Conv2d(128, 128, kernel_size=5)\n",
        "        self.relu3 = nn.ReLU(True)\n",
        "        self.fc = nn.Linear(128, 10)\n",
        "\n",
        "    def forward(self, x):\n",
        "        x = self.relu1(self.conv1(x))\n",
        "        x = self.relu2(self.conv2(x))\n",
        "        x = self.relu3(self.conv3(x))\n",
        "        x = x.view(-1, 128)\n",
        "        x = self.fc(x)\n",
        "        return x"
      ],
      "execution_count": null,
      "outputs": []
    },
    {
      "cell_type": "markdown",
      "metadata": {
        "id": "szo94UrQH0qc"
      },
      "source": [
        "## Model Training"
      ]
    },
    {
      "cell_type": "markdown",
      "metadata": {
        "id": "mXs2dnBFISBR"
      },
      "source": [
        "Let's train the model."
      ]
    },
    {
      "cell_type": "code",
      "metadata": {
        "id": "rP4BTofQITUI",
        "colab": {
          "base_uri": "https://localhost:8080/"
        },
        "outputId": "889a42d6-caf0-4e7b-c4b4-ed050109cf6b"
      },
      "source": [
        "# Create Model\n",
        "model = MnistNet()\n",
        "\n",
        "if use_cuda:\n",
        "    model.cuda()\n",
        "    print('Using ', torch.cuda.device_count(), ' GPU(s)')\n",
        "\n",
        "# Define Optimizer\n",
        "criterion = nn.CrossEntropyLoss()\n",
        "optimizer = optim.Adam(model.parameters(), lr=learning_rate)\n",
        "\n",
        "# Start Training\n",
        "_, _, accs = train(num_epochs, model, optimizer, criterion, trainloader, testloader)\n",
        "\n",
        "print()\n",
        "print('Accuracies: {}'.format(accs))"
      ],
      "execution_count": null,
      "outputs": [
        {
          "output_type": "stream",
          "text": [
            "Using  1  GPU(s)\n",
            "Train Epoch: 1 [0/60050 (0%)]\tLoss: 0.230032\n",
            "Train Epoch: 1 [5000/60050 (8%)]\tLoss: 1.125216\n",
            "Train Epoch: 1 [10000/60050 (17%)]\tLoss: 0.406225\n",
            "Train Epoch: 1 [15000/60050 (25%)]\tLoss: 0.313491\n",
            "Train Epoch: 1 [20000/60050 (33%)]\tLoss: 0.207263\n",
            "Train Epoch: 1 [25000/60050 (41%)]\tLoss: 0.160214\n",
            "Train Epoch: 1 [30000/60050 (50%)]\tLoss: 0.160382\n",
            "Train Epoch: 1 [35000/60050 (58%)]\tLoss: 0.140227\n",
            "Train Epoch: 1 [40000/60050 (66%)]\tLoss: 0.123035\n",
            "Train Epoch: 1 [45000/60050 (74%)]\tLoss: 0.101597\n",
            "Train Epoch: 1 [50000/60050 (83%)]\tLoss: 0.099222\n",
            "Train Epoch: 1 [55000/60050 (91%)]\tLoss: 0.092849\n",
            "Train Epoch: 1 [6000/60050 (99%)]\tLoss: 0.067877\n",
            "\n",
            "Test set: Avg. loss: 0.000080, Accuracy: 9033/9250 (97.65%)\n",
            "\n",
            "Train Epoch: 2 [0/60050 (0%)]\tLoss: 0.004491\n",
            "Train Epoch: 2 [5000/60050 (8%)]\tLoss: 0.084789\n",
            "Train Epoch: 2 [10000/60050 (17%)]\tLoss: 0.074031\n",
            "Train Epoch: 2 [15000/60050 (25%)]\tLoss: 0.060823\n",
            "Train Epoch: 2 [20000/60050 (33%)]\tLoss: 0.057974\n",
            "Train Epoch: 2 [25000/60050 (41%)]\tLoss: 0.058693\n",
            "Train Epoch: 2 [30000/60050 (50%)]\tLoss: 0.058885\n",
            "Train Epoch: 2 [35000/60050 (58%)]\tLoss: 0.060261\n",
            "Train Epoch: 2 [40000/60050 (66%)]\tLoss: 0.046007\n",
            "Train Epoch: 2 [45000/60050 (74%)]\tLoss: 0.050074\n",
            "Train Epoch: 2 [50000/60050 (83%)]\tLoss: 0.058896\n",
            "Train Epoch: 2 [55000/60050 (91%)]\tLoss: 0.067108\n",
            "Train Epoch: 2 [6000/60050 (99%)]\tLoss: 0.065214\n",
            "\n",
            "Test set: Avg. loss: 0.000050, Accuracy: 9121/9250 (98.61%)\n",
            "\n",
            "Train Epoch: 3 [0/60050 (0%)]\tLoss: 0.003682\n",
            "Train Epoch: 3 [5000/60050 (8%)]\tLoss: 0.045758\n",
            "Train Epoch: 3 [10000/60050 (17%)]\tLoss: 0.042220\n",
            "Train Epoch: 3 [15000/60050 (25%)]\tLoss: 0.051976\n",
            "Train Epoch: 3 [20000/60050 (33%)]\tLoss: 0.032876\n",
            "Train Epoch: 3 [25000/60050 (41%)]\tLoss: 0.052546\n",
            "Train Epoch: 3 [30000/60050 (50%)]\tLoss: 0.046438\n",
            "Train Epoch: 3 [35000/60050 (58%)]\tLoss: 0.032982\n",
            "Train Epoch: 3 [40000/60050 (66%)]\tLoss: 0.041637\n",
            "Train Epoch: 3 [45000/60050 (74%)]\tLoss: 0.038140\n",
            "Train Epoch: 3 [50000/60050 (83%)]\tLoss: 0.040195\n",
            "Train Epoch: 3 [55000/60050 (91%)]\tLoss: 0.041701\n",
            "Train Epoch: 3 [6000/60050 (99%)]\tLoss: 0.037298\n",
            "\n",
            "Test set: Avg. loss: 0.000048, Accuracy: 9125/9250 (98.65%)\n",
            "\n",
            "Train Epoch: 4 [0/60050 (0%)]\tLoss: 0.002498\n",
            "Train Epoch: 4 [5000/60050 (8%)]\tLoss: 0.040354\n",
            "Train Epoch: 4 [10000/60050 (17%)]\tLoss: 0.028589\n",
            "Train Epoch: 4 [15000/60050 (25%)]\tLoss: 0.027978\n",
            "Train Epoch: 4 [20000/60050 (33%)]\tLoss: 0.030290\n",
            "Train Epoch: 4 [25000/60050 (41%)]\tLoss: 0.030431\n",
            "Train Epoch: 4 [30000/60050 (50%)]\tLoss: 0.028930\n",
            "Train Epoch: 4 [35000/60050 (58%)]\tLoss: 0.029837\n",
            "Train Epoch: 4 [40000/60050 (66%)]\tLoss: 0.033140\n",
            "Train Epoch: 4 [45000/60050 (74%)]\tLoss: 0.024892\n",
            "Train Epoch: 4 [50000/60050 (83%)]\tLoss: 0.024970\n",
            "Train Epoch: 4 [55000/60050 (91%)]\tLoss: 0.024215\n",
            "Train Epoch: 4 [6000/60050 (99%)]\tLoss: 0.023260\n",
            "\n",
            "Test set: Avg. loss: 0.000039, Accuracy: 9145/9250 (98.86%)\n",
            "\n",
            "Train Epoch: 5 [0/60050 (0%)]\tLoss: 0.002073\n",
            "Train Epoch: 5 [5000/60050 (8%)]\tLoss: 0.018168\n",
            "Train Epoch: 5 [10000/60050 (17%)]\tLoss: 0.015355\n",
            "Train Epoch: 5 [15000/60050 (25%)]\tLoss: 0.014799\n",
            "Train Epoch: 5 [20000/60050 (33%)]\tLoss: 0.022792\n",
            "Train Epoch: 5 [25000/60050 (41%)]\tLoss: 0.018414\n",
            "Train Epoch: 5 [30000/60050 (50%)]\tLoss: 0.031424\n",
            "Train Epoch: 5 [35000/60050 (58%)]\tLoss: 0.027761\n",
            "Train Epoch: 5 [40000/60050 (66%)]\tLoss: 0.025737\n",
            "Train Epoch: 5 [45000/60050 (74%)]\tLoss: 0.023423\n",
            "Train Epoch: 5 [50000/60050 (83%)]\tLoss: 0.018450\n",
            "Train Epoch: 5 [55000/60050 (91%)]\tLoss: 0.023908\n",
            "Train Epoch: 5 [6000/60050 (99%)]\tLoss: 0.022413\n",
            "\n",
            "Test set: Avg. loss: 0.000041, Accuracy: 9148/9250 (98.90%)\n",
            "\n",
            "Train Epoch: 6 [0/60050 (0%)]\tLoss: 0.001307\n",
            "Train Epoch: 6 [5000/60050 (8%)]\tLoss: 0.014607\n",
            "Train Epoch: 6 [10000/60050 (17%)]\tLoss: 0.012129\n",
            "Train Epoch: 6 [15000/60050 (25%)]\tLoss: 0.013176\n",
            "Train Epoch: 6 [20000/60050 (33%)]\tLoss: 0.013387\n",
            "Train Epoch: 6 [25000/60050 (41%)]\tLoss: 0.012597\n",
            "Train Epoch: 6 [30000/60050 (50%)]\tLoss: 0.013058\n",
            "Train Epoch: 6 [35000/60050 (58%)]\tLoss: 0.013543\n",
            "Train Epoch: 6 [40000/60050 (66%)]\tLoss: 0.014524\n",
            "Train Epoch: 6 [45000/60050 (74%)]\tLoss: 0.014322\n",
            "Train Epoch: 6 [50000/60050 (83%)]\tLoss: 0.024662\n",
            "Train Epoch: 6 [55000/60050 (91%)]\tLoss: 0.025696\n",
            "Train Epoch: 6 [6000/60050 (99%)]\tLoss: 0.026509\n",
            "\n",
            "Test set: Avg. loss: 0.000040, Accuracy: 9154/9250 (98.96%)\n",
            "\n",
            "Finished Training\n",
            "\n",
            "Accuracies: [97.65405405405406, 98.6054054054054, 98.64864864864865, 98.86486486486487, 98.8972972972973, 98.96216216216216]\n"
          ],
          "name": "stdout"
        }
      ]
    },
    {
      "cell_type": "markdown",
      "metadata": {
        "id": "qOX5Iwrde9f5"
      },
      "source": [
        "Put model in evaluation mode."
      ]
    },
    {
      "cell_type": "code",
      "metadata": {
        "id": "g10p0O_9fAOe",
        "colab": {
          "base_uri": "https://localhost:8080/"
        },
        "outputId": "98eb38df-a342-4801-e6c8-ca8be685b1e2"
      },
      "source": [
        "model.eval()\n",
        "\n",
        "if use_cuda:\n",
        "    model.cuda()\n",
        "    print('Using ', torch.cuda.device_count(), ' GPU(s)')"
      ],
      "execution_count": null,
      "outputs": [
        {
          "output_type": "stream",
          "text": [
            "Using  1  GPU(s)\n"
          ],
          "name": "stdout"
        }
      ]
    },
    {
      "cell_type": "markdown",
      "metadata": {
        "id": "FRreifcIgVNz"
      },
      "source": [
        "Let's test our model again to see again which accuracy we have finally reached."
      ]
    },
    {
      "cell_type": "code",
      "metadata": {
        "id": "GblopwOcg1HF"
      },
      "source": [
        "def test_final(model, data_loader):\n",
        "    _, accs,_ ,_= test(model, criterion, data_loader, [], [])\n",
        "    return accs[0]"
      ],
      "execution_count": null,
      "outputs": []
    },
    {
      "cell_type": "markdown",
      "metadata": {
        "id": "v4Fzf1exv77X"
      },
      "source": [
        "Get the labels from DNN for the training set"
      ]
    },
    {
      "cell_type": "code",
      "metadata": {
        "id": "mnMMrstut_ul"
      },
      "source": [
        "res = model(trainset.data.cuda().float().reshape(-1,1,28,28))"
      ],
      "execution_count": null,
      "outputs": []
    },
    {
      "cell_type": "code",
      "metadata": {
        "colab": {
          "base_uri": "https://localhost:8080/"
        },
        "id": "NMyVL9MXuVea",
        "outputId": "82c52116-d0d2-4741-97d3-8f2d8142a8b7"
      },
      "source": [
        "pred_label = np.argmax(res.cpu().detach().numpy(),axis=1)\n",
        "pred_label.shape"
      ],
      "execution_count": null,
      "outputs": [
        {
          "output_type": "execute_result",
          "data": {
            "text/plain": [
              "(60050,)"
            ]
          },
          "metadata": {
            "tags": []
          },
          "execution_count": 24
        }
      ]
    },
    {
      "cell_type": "code",
      "metadata": {
        "id": "3SKAfUJWVZlX"
      },
      "source": [
        "train_labels = trainset.targets.cpu().numpy()"
      ],
      "execution_count": null,
      "outputs": []
    },
    {
      "cell_type": "markdown",
      "metadata": {
        "id": "tejpKRJWwBGs"
      },
      "source": [
        "Get the misclassified training points"
      ]
    },
    {
      "cell_type": "code",
      "metadata": {
        "colab": {
          "base_uri": "https://localhost:8080/"
        },
        "id": "_jZwH6UlulJa",
        "outputId": "ac26fd8e-4810-4ee7-95f5-89fe48d06877"
      },
      "source": [
        "misclassified_train_idx = np.where(pred_label!=train_labels)[0]\n",
        "print('acc:',1-len(misclassified_train_idx)/len(train_labels))"
      ],
      "execution_count": null,
      "outputs": [
        {
          "output_type": "stream",
          "text": [
            "acc: 0.9931057452123231\n"
          ],
          "name": "stdout"
        }
      ]
    },
    {
      "cell_type": "code",
      "metadata": {
        "id": "1x3S-JMRwBYF"
      },
      "source": [
        "misclassified_train_data = trainset.data[misclassified_train_idx]\n",
        "misclassified_train_label = trainset.targets[misclassified_train_idx]"
      ],
      "execution_count": null,
      "outputs": []
    },
    {
      "cell_type": "markdown",
      "metadata": {
        "id": "HOw1TsTvisjv"
      },
      "source": [
        "## Get Activations"
      ]
    },
    {
      "cell_type": "markdown",
      "metadata": {
        "id": "1x0SMfDRuQdQ"
      },
      "source": [
        "Now, let's try to get the activations of each layer when feeding the trained model with images. To see again which layers we have let's print the model architecture."
      ]
    },
    {
      "cell_type": "code",
      "metadata": {
        "colab": {
          "base_uri": "https://localhost:8080/"
        },
        "id": "tY8QtZHlgxVt",
        "outputId": "83c99ceb-0f91-44b5-fbc6-5bc41277693e"
      },
      "source": [
        "result = test(model,criterion,trainloader,[],[])"
      ],
      "execution_count": null,
      "outputs": [
        {
          "output_type": "stream",
          "text": [
            "\n",
            "Test set: Avg. loss: 0.000031, Accuracy: 59748/60050 (99.50%)\n",
            "\n"
          ],
          "name": "stdout"
        }
      ]
    },
    {
      "cell_type": "code",
      "metadata": {
        "id": "Aw3jUxkguTeV",
        "colab": {
          "base_uri": "https://localhost:8080/"
        },
        "outputId": "93493476-7a23-49ec-d33c-097de65a1487"
      },
      "source": [
        "model"
      ],
      "execution_count": null,
      "outputs": [
        {
          "output_type": "execute_result",
          "data": {
            "text/plain": [
              "MnistNet(\n",
              "  (conv1): Conv2d(1, 64, kernel_size=(8, 8), stride=(2, 2), padding=(3, 3))\n",
              "  (relu1): ReLU(inplace=True)\n",
              "  (conv2): Conv2d(64, 128, kernel_size=(6, 6), stride=(2, 2))\n",
              "  (relu2): ReLU(inplace=True)\n",
              "  (conv3): Conv2d(128, 128, kernel_size=(5, 5), stride=(1, 1))\n",
              "  (relu3): ReLU(inplace=True)\n",
              "  (fc): Linear(in_features=128, out_features=10, bias=True)\n",
              ")"
            ]
          },
          "metadata": {
            "tags": []
          },
          "execution_count": 29
        }
      ]
    },
    {
      "cell_type": "markdown",
      "metadata": {
        "id": "-395Iz3PuYiA"
      },
      "source": [
        "Specify layers to be used for the DkNN."
      ]
    },
    {
      "cell_type": "code",
      "metadata": {
        "id": "Rnlpkyntj0tf"
      },
      "source": [
        "layers = {\n",
        "    'relu1': model.relu1,\n",
        "    'relu2': model.relu2,\n",
        "    'relu3': model.relu3,\n",
        "    'fc': model.fc\n",
        "}"
      ],
      "execution_count": null,
      "outputs": []
    },
    {
      "cell_type": "markdown",
      "metadata": {
        "id": "ar9rmLtluyZj"
      },
      "source": [
        "Define function to get activations."
      ]
    },
    {
      "cell_type": "code",
      "metadata": {
        "id": "-d9ohncXP0gw"
      },
      "source": [
        "def get_activations(dataloader, model, layers):\n",
        "    activations = {}\n",
        "    activations['activations'] = {}\n",
        "    activations['targets'] = None\n",
        "\n",
        "    for layer_name in layers:\n",
        "        print('## Fetching Activations from Layer {}'.format(layer_name))\n",
        "\n",
        "        # Get activations for the data\n",
        "        layer = layers[layer_name]\n",
        "        activations['activations'][layer_name], targets = get_activations_from_layer(dataloader, model, layer)\n",
        "\n",
        "        # Get the targets of that data\n",
        "        if targets is not None:\n",
        "            if activations['targets'] is not None:\n",
        "                np.testing.assert_array_equal(activations['targets'], targets)\n",
        "            else:\n",
        "                activations['targets'] = targets\n",
        "\n",
        "        print()\n",
        "\n",
        "    return activations\n",
        "\n",
        "def get_activations_from_layer(dataloader, model, layer):\n",
        "    activations = []\n",
        "    targets = []\n",
        "\n",
        "    # Define hook for fetching the activations\n",
        "    def hook(module, input, output):\n",
        "        layer_activations = output.squeeze().detach().cpu().numpy()\n",
        "\n",
        "        if len(layer_activations.shape) == 4:\n",
        "            layer_activations = layer_activations.reshape(layer_activations.shape[0], -1)\n",
        "        \n",
        "        activations.append(layer_activations)\n",
        "\n",
        "    handle = layer.register_forward_hook(hook)\n",
        "\n",
        "    # Fetch activations\n",
        "    for i, batch in enumerate(dataloader):\n",
        "        print('Processing Batch {}'.format(i))\n",
        "        \n",
        "\n",
        "        if use_cuda:\n",
        "            batch = [_batch.cuda() for _batch in batch]\n",
        "            #batch = batch.cuda()\n",
        "            \n",
        "\n",
        "        _ = model(batch[0])\n",
        "\n",
        "        if len(batch) > 1:\n",
        "          targets.append(batch[1].detach().cpu().numpy())\n",
        "\n",
        "    print(\"done!\")\n",
        "\n",
        "    # Remove hook\n",
        "    handle.remove()\n",
        "\n",
        "    # Return activations and targets\n",
        "    activations = np.concatenate(activations)\n",
        "\n",
        "    if targets:\n",
        "        targets = np.hstack(targets)\n",
        "    else:\n",
        "        None\n",
        "\n",
        "    return activations, targets"
      ],
      "execution_count": null,
      "outputs": []
    },
    {
      "cell_type": "markdown",
      "metadata": {
        "id": "zC9ivurMgBl0"
      },
      "source": [
        "Test activation fetching."
      ]
    },
    {
      "cell_type": "code",
      "metadata": {
        "id": "7wqOGH2BgD3j",
        "colab": {
          "base_uri": "https://localhost:8080/"
        },
        "outputId": "4886287c-a779-4747-c98d-82d33b069608"
      },
      "source": [
        "acts = get_activations(calibloader, model, layers)"
      ],
      "execution_count": null,
      "outputs": [
        {
          "output_type": "stream",
          "text": [
            "## Fetching Activations from Layer relu1\n",
            "Processing Batch 0\n",
            "done!\n",
            "\n",
            "## Fetching Activations from Layer relu2\n",
            "Processing Batch 0\n",
            "done!\n",
            "\n",
            "## Fetching Activations from Layer relu3\n",
            "Processing Batch 0\n",
            "done!\n",
            "\n",
            "## Fetching Activations from Layer fc\n",
            "Processing Batch 0\n",
            "done!\n",
            "\n"
          ],
          "name": "stdout"
        }
      ]
    },
    {
      "cell_type": "code",
      "metadata": {
        "id": "-Ra7WMB7j016",
        "colab": {
          "base_uri": "https://localhost:8080/"
        },
        "outputId": "dac7de42-9dd3-41e9-852b-08f172345f82"
      },
      "source": [
        "print('targets: {}'.format(acts['targets'].shape))\n",
        "print()\n",
        "\n",
        "for layer in layers:\n",
        "    print('## layer {}'.format(layer))\n",
        "    print('activations: {}'.format(acts['activations'][layer].shape))\n",
        "    print()"
      ],
      "execution_count": null,
      "outputs": [
        {
          "output_type": "stream",
          "text": [
            "targets: (750,)\n",
            "\n",
            "## layer relu1\n",
            "activations: (750, 12544)\n",
            "\n",
            "## layer relu2\n",
            "activations: (750, 3200)\n",
            "\n",
            "## layer relu3\n",
            "activations: (750, 128)\n",
            "\n",
            "## layer fc\n",
            "activations: (750, 10)\n",
            "\n"
          ],
          "name": "stdout"
        }
      ]
    },
    {
      "cell_type": "markdown",
      "metadata": {
        "id": "aRNHTEVitJmU"
      },
      "source": [
        "# Deep kNN"
      ]
    },
    {
      "cell_type": "markdown",
      "metadata": {
        "id": "NBSJ_lc6w0II"
      },
      "source": [
        "Now, let's implement DkNN. The code is based on the original [code from Papernot and McDaniel](https://github.com/tensorflow/cleverhans/blob/master/cleverhans/model_zoo/deep_k_nearest_neighbors/dknn.py). It was converted to PyTorch."
      ]
    },
    {
      "cell_type": "code",
      "metadata": {
        "id": "-s3P0R-KkTq8"
      },
      "source": [
        "class NearestNeighbor:\n",
        "\n",
        "    class BACKEND(enum.Enum):\n",
        "        FALCONN = 1\n",
        "        FAISS = 2\n",
        "\n",
        "    def __init__(self, backend, dimension, neighbors, number_bits, nb_tables=None):\n",
        "        assert backend in NearestNeighbor.BACKEND\n",
        "\n",
        "        self._NEIGHBORS = neighbors\n",
        "        self._BACKEND = backend\n",
        "\n",
        "        if self._BACKEND is NearestNeighbor.BACKEND.FALCONN:\n",
        "            self._init_falconn(dimension, number_bits, nb_tables)\n",
        "        elif self._BACKEND is NearestNeighbor.BACKEND.FAISS:\n",
        "            self._init_faiss(dimension)\n",
        "        else:\n",
        "            raise NotImplementedError\n",
        "\n",
        "    def _init_falconn(self, dimension, number_bits, nb_tables):\n",
        "        assert nb_tables >= self._NEIGHBORS\n",
        "\n",
        "        # LSH parameters\n",
        "        params_cp = falconn.LSHConstructionParameters()\n",
        "        params_cp.dimension = dimension\n",
        "        params_cp.lsh_family = falconn.LSHFamily.CrossPolytope\n",
        "        params_cp.distance_function = falconn.DistanceFunction.EuclideanSquared\n",
        "        params_cp.l = nb_tables\n",
        "        params_cp.num_rotations = 2  # for dense set it to 1; for sparse data set it to 2\n",
        "        params_cp.seed = 5721840\n",
        "        params_cp.num_setup_threads = 0  # we want to use all the available threads to set up\n",
        "        params_cp.storage_hash_table = falconn.StorageHashTable.BitPackedFlatHashTable\n",
        "\n",
        "        # we build number_bits-bit hashes so that each table has\n",
        "        # 2^number_bits bins; a rule of thumb is to have the number\n",
        "        # of bins be the same order of magnitude as the number of data points\n",
        "        falconn.compute_number_of_hash_functions(number_bits, params_cp)\n",
        "        self._falconn_table = falconn.LSHIndex(params_cp)\n",
        "        self._falconn_query_object = None\n",
        "        self._FALCONN_NB_TABLES = nb_tables\n",
        "\n",
        "    def _init_faiss(self, dimension):\n",
        "        res = faiss.StandardGpuResources()\n",
        "        self._faiss_index = faiss.GpuIndexFlatL2(res, dimension)\n",
        "\n",
        "    def add(self, x):\n",
        "        if self._BACKEND is NearestNeighbor.BACKEND.FALCONN:\n",
        "            self._falconn_table.setup(x)\n",
        "        elif self._BACKEND is NearestNeighbor.BACKEND.FAISS:\n",
        "            self._faiss_index.add(x)\n",
        "        else:\n",
        "            raise NotImplementedError\n",
        "\n",
        "    def find_knns(self, x, output):\n",
        "        if self._BACKEND is NearestNeighbor.BACKEND.FALCONN:\n",
        "            return self._find_knns_falconn(x, output)\n",
        "        elif self._BACKEND is NearestNeighbor.BACKEND.FAISS:\n",
        "            return self._find_knns_faiss(x, output)\n",
        "        else:\n",
        "            raise NotImplementedError\n",
        "\n",
        "    def _find_knns_falconn(self, x, output):\n",
        "        # Late falconn query_object construction\n",
        "        # Since I suppose there might be an error\n",
        "        # if table.setup() will be called after\n",
        "        if self._falconn_query_object is None:\n",
        "            self._falconn_query_object = self._falconn_table.construct_query_object()\n",
        "            self._falconn_query_object.set_num_probes(self._FALCONN_NB_TABLES)\n",
        "\n",
        "        missing_indices = np.zeros(output.shape, dtype=np.bool)\n",
        "\n",
        "        for i in range(x.shape[0]):\n",
        "            query_res = self._falconn_query_object.find_k_nearest_neighbors(x[i], self._NEIGHBORS)\n",
        "\n",
        "            try:\n",
        "                output[i, :] = query_res\n",
        "            except:\n",
        "                # mark missing indices\n",
        "                missing_indices[i, len(query_res):] = True\n",
        "                output[i, :len(query_res)] = query_res\n",
        "\n",
        "        return missing_indices\n",
        "\n",
        "    def _find_knns_faiss(self, x, output):\n",
        "        neighbor_distance, neighbor_index = self._faiss_index.search(x, self._NEIGHBORS)\n",
        "\n",
        "        missing_indices = neighbor_distance == -1\n",
        "        d1 = neighbor_index.reshape(-1)\n",
        "\n",
        "        output.reshape(-1)[np.logical_not(missing_indices.flatten())] = d1[np.logical_not(missing_indices.flatten())]\n",
        "\n",
        "        return missing_indices\n",
        "\n",
        "\n",
        "class DkNN:\n",
        "\n",
        "    def __init__(self, model, nb_classes, neighbors, layers, trainloader, nearest_neighbor_backend, nb_tables=200, number_bits=17):\n",
        "        \"\"\"\n",
        "        Implementation of the DkNN algorithm, see https://arxiv.org/abs/1803.04765 for more details\n",
        "        :param model: model to be used\n",
        "        :param nb_classes: the number of classes in the task\n",
        "        :param neighbors: number of neighbors to find per layer\n",
        "        :param layers: a list of layer names to include in the DkNN\n",
        "        :param trainloader: data loader for the training data\n",
        "        :param nearest_neighbor_backend: falconn or faiss to be used for LSH\n",
        "        :param nb_tables: number of tables used by FALCONN to perform locality-sensitive hashing.\n",
        "        :param number_bits: number of hash bits used by LSH.\n",
        "        \"\"\"\n",
        "        print('---------- DkNN init')\n",
        "        print()\n",
        "\n",
        "        self.model = model\n",
        "        self.nb_classes = nb_classes\n",
        "        self.neighbors = neighbors\n",
        "        self.layers = layers\n",
        "        self.backend = nearest_neighbor_backend\n",
        "        self.nb_tables = nb_tables\n",
        "        self.number_bits = number_bits\n",
        "\n",
        "        self.nb_cali = -1\n",
        "        self.calibrated = False   \n",
        "\n",
        "        # Compute training data activations\n",
        "        activations = get_activations(trainloader, model, layers)\n",
        "        self.train_activations = activations['activations']\n",
        "        self.train_labels = activations['targets']\n",
        "\n",
        "        # Build locality-sensitive hashing tables for training representations\n",
        "        self.train_activations_lsh = copy.copy(self.train_activations)\n",
        "        self.init_lsh()\n",
        "\n",
        "    def init_lsh(self):\n",
        "        \"\"\"\n",
        "        Initializes locality-sensitive hashing with FALCONN to find nearest neighbors in training data\n",
        "        \"\"\"\n",
        "        self.query_objects = {} # contains the object that can be queried to find nearest neighbors at each layer\n",
        "        self.centers = {} # mean of training data representation per layer (that needs to be substracted before NearestNeighbor)\n",
        "\n",
        "        print(\"## Constructing the NearestNeighbor tables\")\n",
        "\n",
        "        for layer in self.layers:\n",
        "            print(\"Constructing table for {}\".format(layer))\n",
        "\n",
        "            # Normalize all the lenghts, since we care about the cosine similarity\n",
        "            self.train_activations_lsh[layer] /= np.linalg.norm(self.train_activations_lsh[layer], axis=1).reshape(-1, 1)\n",
        "\n",
        "            # Center the dataset and the queries: this improves the performance of LSH quite a bit\n",
        "            center = np.mean(self.train_activations_lsh[layer], axis=0)\n",
        "            self.train_activations_lsh[layer] -= center\n",
        "            self.centers[layer] = center\n",
        "\n",
        "            # Constructing nearest neighbor table\n",
        "            self.query_objects[layer] = NearestNeighbor(\n",
        "                backend=self.backend,\n",
        "                dimension=self.train_activations_lsh[layer].shape[1],\n",
        "                number_bits=self.number_bits,\n",
        "                neighbors=self.neighbors,\n",
        "                nb_tables=self.nb_tables,\n",
        "            )\n",
        "\n",
        "            self.query_objects[layer].add(self.train_activations_lsh[layer])\n",
        "\n",
        "        print(\"done!\")\n",
        "        print()\n",
        "\n",
        "\n",
        "    def calibrate(self, calibloader):\n",
        "        \"\"\"\n",
        "        Runs the DkNN on holdout data to calibrate the credibility metric\n",
        "        :param calibloader: data loader for the calibration loader\n",
        "        \"\"\"\n",
        "        print('---------- DkNN calibrate')\n",
        "        print()\n",
        "\n",
        "        # Compute calibration data activations\n",
        "        self.nb_cali = len(calibloader.dataset)\n",
        "        activations = get_activations(calibloader, self.model, self.layers)\n",
        "        self.cali_activations = activations['activations']\n",
        "        self.cali_labels = activations['targets']\n",
        "\n",
        "        print(\"## Starting calibration of DkNN\")\n",
        "\n",
        "        cali_knns_ind, cali_knns_labels = self.find_train_knns(self.cali_activations)\n",
        "        assert all([v.shape == (self.nb_cali, self.neighbors) for v in cali_knns_ind.values()])\n",
        "        assert all([v.shape == (self.nb_cali, self.neighbors) for v in cali_knns_labels.values()])\n",
        "\n",
        "        cali_knns_not_in_class = self.nonconformity(cali_knns_labels)\n",
        "        cali_knns_not_in_l = np.zeros(self.nb_cali, dtype=np.int32)\n",
        "\n",
        "        for i in range(self.nb_cali):\n",
        "            cali_knns_not_in_l[i] = cali_knns_not_in_class[i, self.cali_labels[i]]\n",
        "\n",
        "        cali_knns_not_in_l_sorted = np.sort(cali_knns_not_in_l)\n",
        "        self.cali_nonconformity = np.trim_zeros(cali_knns_not_in_l_sorted, trim='f')\n",
        "        self.nb_cali = self.cali_nonconformity.shape[0]\n",
        "        self.calibrated = True\n",
        "\n",
        "        print(\"DkNN calibration complete\")\n",
        "\n",
        "    def find_train_knns(self, data_activations):\n",
        "        \"\"\"\n",
        "        Given a data_activation dictionary that contains a np array with activations for each layer,\n",
        "        find the knns in the training data\n",
        "        \"\"\"\n",
        "        knns_ind = {}\n",
        "        knns_labels = {}\n",
        "\n",
        "        for layer in self.layers:\n",
        "            # Pre-process representations of data to normalize and remove training data mean\n",
        "            data_activations_layer = copy.copy(data_activations[layer])\n",
        "            nb_data = data_activations_layer.shape[0]\n",
        "            data_activations_layer /= np.linalg.norm(data_activations_layer, axis=1).reshape(-1, 1)\n",
        "            data_activations_layer -= self.centers[layer]\n",
        "\n",
        "            # Use FALCONN to find indices of nearest neighbors in training data\n",
        "            knns_ind[layer] = np.zeros((data_activations_layer.shape[0], self.neighbors), dtype=np.int32)\n",
        "            knn_errors = 0\n",
        "\n",
        "            knn_missing_indices = self.query_objects[layer].find_knns(data_activations_layer, knns_ind[layer])\n",
        "            knn_errors += knn_missing_indices.flatten().sum()\n",
        "\n",
        "            # Find labels of neighbors found in the training data\n",
        "            knns_labels[layer] = np.zeros((nb_data, self.neighbors), dtype=np.int32)\n",
        "\n",
        "            knns_labels[layer].reshape(-1)[\n",
        "                np.logical_not(knn_missing_indices.flatten())\n",
        "            ] = self.train_labels[\n",
        "                knns_ind[layer].reshape(-1)[np.logical_not(knn_missing_indices.flatten())]                    \n",
        "            ]\n",
        "\n",
        "        return knns_ind, knns_labels\n",
        "\n",
        "    def nonconformity(self, knns_labels):\n",
        "        \"\"\"\n",
        "        Given an dictionary of nb_data x nb_classes dimension, compute the nonconformity of\n",
        "        each candidate label for each data point: i.e. the number of knns whose label is\n",
        "        different from the candidate label\n",
        "        \"\"\"\n",
        "        nb_data = knns_labels[list(self.layers.keys())[0]].shape[0]\n",
        "        knns_not_in_class = np.zeros((nb_data, self.nb_classes), dtype=np.int32)\n",
        "\n",
        "        for i in range(nb_data):\n",
        "            # Compute number of nearest neighbors per class\n",
        "            knns_in_class = np.zeros((len(self.layers), self.nb_classes), dtype=np.int32)\n",
        "\n",
        "            for layer_id, layer in enumerate(self.layers):\n",
        "                knns_in_class[layer_id, :] = np.bincount(knns_labels[layer][i], minlength=self.nb_classes)\n",
        "\n",
        "            # Compute number of knns in other class than class_id\n",
        "            for class_id in range(self.nb_classes):\n",
        "                knns_not_in_class[i, class_id] = np.sum(knns_in_class) - np.sum(knns_in_class[:, class_id])\n",
        "\n",
        "        return knns_not_in_class\n",
        "\n",
        "    def fprop(self, testloader):\n",
        "        \"\"\"\n",
        "        Performs a forward pass through the DkNN on an numpy array of data\n",
        "        \"\"\"\n",
        "        print('---------- DkNN predict')\n",
        "        print()\n",
        "\n",
        "        if not self.calibrated:\n",
        "            raise ValueError(\"DkNN needs to be calibrated by calling DkNNModel.calibrate method once before inferring\")\n",
        "\n",
        "        # Compute test data activations\n",
        "        activations = get_activations(testloader, self.model, self.layers)\n",
        "        data_activations = activations['activations']\n",
        "        _, knns_labels = self.find_train_knns(data_activations)\n",
        "\n",
        "        # Calculate nonconformity\n",
        "        knns_not_in_class = self.nonconformity(knns_labels)\n",
        "        print('Nonconformity calculated')\n",
        "\n",
        "        # Create predictions, confidence and credibility\n",
        "        # _, _,creds = self.preds_conf_cred(knns_not_in_class)\n",
        "        preds_knn, confs,creds = self.preds_conf_cred(knns_not_in_class)\n",
        "        print('Predictions created')\n",
        "\n",
        "        return creds, activations['targets'],preds_knn,confs\n",
        "\n",
        "    def preds_conf_cred(self, knns_not_in_class):\n",
        "        \"\"\"\n",
        "        Given an array of nb_data x nb_classes dimensions, use conformal prediction to compute\n",
        "        the DkNN's prediction, confidence and credibility\n",
        "        \"\"\"\n",
        "        nb_data = knns_not_in_class.shape[0]\n",
        "        preds_knn = np.zeros(nb_data, dtype=np.int32)\n",
        "        confs = np.zeros((nb_data, self.nb_classes), dtype=np.float32)\n",
        "        creds = np.zeros((nb_data, self.nb_classes), dtype=np.float32)\n",
        "\n",
        "        for i in range(nb_data):\n",
        "            # p-value of test input for each class\n",
        "            p_value = np.zeros(self.nb_classes, dtype=np.float32)\n",
        "\n",
        "            for class_id in range(self.nb_classes):\n",
        "                # p-value of (test point, candidate label)\n",
        "                p_value[class_id] = (float(self.nb_cali) - bisect_left(self.cali_nonconformity, knns_not_in_class[i, class_id])) / float(self.nb_cali)\n",
        "\n",
        "            preds_knn[i] = np.argmax(p_value)\n",
        "            confs[i, preds_knn[i]] = 1. - np.sort(p_value)[-2]\n",
        "            creds[i, preds_knn[i]] = p_value[preds_knn[i]]\n",
        "\n",
        "        return preds_knn, confs, creds\n",
        "\n",
        "\n",
        "def plot_reliability_diagram(confidence, labels):\n",
        "    \"\"\"\n",
        "    Takes in confidence values (e.g. output of softmax or DkNN confidences) for\n",
        "    predictions and correct labels for the data, plots a reliability diagram\n",
        "    :param confidence: nb_samples x nb_classes with confidence scores\n",
        "    :param labels: targets\n",
        "    \"\"\"\n",
        "    assert len(confidence.shape) == 2\n",
        "    assert len(labels.shape) == 1\n",
        "    assert confidence.shape[0] == labels.shape[0]\n",
        "\n",
        "    if confidence.max() <= 1.:\n",
        "        # confidence array is output of softmax\n",
        "        bins_start = [b / 10. for b in range(0, 10)]\n",
        "        bins_end = [b / 10. for b in range(1, 11)]\n",
        "        bins_center = [(b + .5) / 10. for b in range(0, 10)]\n",
        "        preds_conf = np.max(confidence, axis=1)\n",
        "        preds_l = np.argmax(confidence, axis=1)\n",
        "    else:\n",
        "        raise ValueError('Confidence values go above 1')\n",
        "\n",
        "    print(preds_conf.shape, preds_l.shape)\n",
        "\n",
        "    # Create var for reliability diagram (Will contain mean accuracies for each bin)\n",
        "    reliability_diag = []\n",
        "    num_points = []  # keeps the number of points in each bar\n",
        "\n",
        "    # Find average accuracy per confidence bin\n",
        "    for bin_start, bin_end in zip(bins_start, bins_end):\n",
        "        above = preds_conf >= bin_start\n",
        "\n",
        "        if bin_end == 1.:\n",
        "            below = preds_conf <= bin_end\n",
        "        else:\n",
        "            below = preds_conf < bin_end\n",
        "\n",
        "        mask = np.multiply(above, below)\n",
        "        num_points.append(np.sum(mask))\n",
        "\n",
        "        bin_mean_acc = max(0, np.mean(preds_l[mask] == labels[mask]))\n",
        "        reliability_diag.append(bin_mean_acc)\n",
        "\n",
        "    # Plot diagram\n",
        "    assert len(reliability_diag) == len(bins_center)\n",
        "    #print(reliability_diag)\n",
        "    #print(bins_center)\n",
        "    #print(num_points)\n",
        "\n",
        "    fig, ax1 = plt.subplots()\n",
        "    _ = ax1.bar(bins_center, reliability_diag, width=.1, alpha=0.8, edgecolor = \"black\")\n",
        "    plt.xlim([0, 1.])\n",
        "    ax1.set_ylim([0, 1.])\n",
        "\n",
        "    ax2 = ax1.twinx()\n",
        "\n",
        "    #print(sum(num_points))\n",
        "\n",
        "    ax2.plot(bins_center, num_points, color='r', linestyle='-', linewidth=7.0)\n",
        "    ax2.set_ylabel('Number of points in the data', fontsize=16, color='r')\n",
        "\n",
        "    if len(np.argwhere(confidence[0] != 0.)) == 1:\n",
        "        # This is a DkNN diagram\n",
        "        ax1.set_xlabel('Prediction Credibility', fontsize=16)\n",
        "    else:\n",
        "        # This is a softmax diagram\n",
        "        ax1.set_xlabel('Prediction Confidence', fontsize=16)\n",
        "\n",
        "    ax1.set_ylabel('Prediction Accuracy', fontsize=16)\n",
        "    ax1.tick_params(axis='both', labelsize=14)\n",
        "    ax2.tick_params(axis='both', labelsize=14, colors='r')\n",
        "    fig.tight_layout()\n",
        "    plt.show()"
      ],
      "execution_count": null,
      "outputs": []
    },
    {
      "cell_type": "markdown",
      "metadata": {
        "id": "NOXkJ-EB5rGU"
      },
      "source": [
        "Let's create a dataloader for training data that should be used to initialize the DkNN (shuffle must be false!). Then, initialize the DkNN."
      ]
    },
    {
      "cell_type": "code",
      "metadata": {
        "id": "zX8Op544r4Wu",
        "colab": {
          "base_uri": "https://localhost:8080/"
        },
        "outputId": "4e2d2fee-37cd-4151-b5b8-ab589cc347d0"
      },
      "source": [
        "# Create training data loader for DkNN\n",
        "trainloader_dknn = torch.utils.data.DataLoader(                                                                                                                                                                                                                                                                                                                                                                                                                                                                                                                                                                                                                                                                                                                                                                                                                                                                                                                                                                                                                                                                                                                                                                                                                                                                                                                                                                                                                                                                                                                                                                                                                                                                                                                                                                                                                                                                                                                                                                                                                                                                                                                                                                                                                                                                                                                                                                                                                                                                                                                                                                                                                                                                                                                                                                                                                                                                                                                                                                                                                                                                                                                                                                                                                                                                                                                                                                                                                                                                                                                                                                                                                                                                                                                                                                                                                                                                                                                                                                                                                                                                                                                                                                                                                                                                                                                                                                                                                                                                                                                                                                                                                                                                                                                                                                                                                                                                                                                                                                                                                                                                                                                                                                                                                                                                                                                                                                                                                                                                                                                                                                                                                                                                                                                                                                                                                                                                                                                                                                                                                                                                                                                                                                                                                                                                                                                                                                                                                                                                                                                                                                                                                                                                                                                                                                                                                                                                                                                                                                                                                                                                                                                                                                                                                                                                                                                                                                                                                                                                                                                                                                                                                                                                                                                                                                                                                                                                                                                                                                                                                                                                                                                                                                                                                                                                                                                                                                                                                                                                                                                                                                                                                                                                                                                                                                                                                                                                                                                                                                                                                                                                                                                                                                                                                                                                                                                                                                                                                                                                                                                                                                                                                                                                                                                                                                                                                                                                                                                                                                                                                                                                                                                                                                                                                                                                                                                                                                                                                                                                                                                                                                                                                                                                                                                                                                                                                                                                                                                                                                                                                                                                                                                                                                                                                                                                                                                                                                                                                                                                                                                                                                                                                                                                                                                       \n",
        "    trainset, batch_size=batch_size_train, shuffle=False, num_workers=3\n",
        ")\n",
        "\n",
        "# Initialize DkNN\n",
        "nb_classes_mnist = 10\n",
        "dknn = DkNN(model, nb_classes_mnist, neighbors, layers, trainloader_dknn, NearestNeighbor.BACKEND.FALCONN)"
      ],
      "execution_count": null,
      "outputs": [
        {
          "output_type": "stream",
          "text": [
            "---------- DkNN init\n",
            "\n",
            "## Fetching Activations from Layer relu1\n",
            "Processing Batch 0\n",
            "Processing Batch 1\n",
            "Processing Batch 2\n",
            "Processing Batch 3\n",
            "Processing Batch 4\n",
            "Processing Batch 5\n",
            "Processing Batch 6\n",
            "Processing Batch 7\n",
            "Processing Batch 8\n",
            "Processing Batch 9\n",
            "Processing Batch 10\n",
            "Processing Batch 11\n",
            "Processing Batch 12\n",
            "Processing Batch 13\n",
            "Processing Batch 14\n",
            "Processing Batch 15\n",
            "Processing Batch 16\n",
            "Processing Batch 17\n",
            "Processing Batch 18\n",
            "Processing Batch 19\n",
            "Processing Batch 20\n",
            "Processing Batch 21\n",
            "Processing Batch 22\n",
            "Processing Batch 23\n",
            "Processing Batch 24\n",
            "Processing Batch 25\n",
            "Processing Batch 26\n",
            "Processing Batch 27\n",
            "Processing Batch 28\n",
            "Processing Batch 29\n",
            "Processing Batch 30\n",
            "Processing Batch 31\n",
            "Processing Batch 32\n",
            "Processing Batch 33\n",
            "Processing Batch 34\n",
            "Processing Batch 35\n",
            "Processing Batch 36\n",
            "Processing Batch 37\n",
            "Processing Batch 38\n",
            "Processing Batch 39\n",
            "Processing Batch 40\n",
            "Processing Batch 41\n",
            "Processing Batch 42\n",
            "Processing Batch 43\n",
            "Processing Batch 44\n",
            "Processing Batch 45\n",
            "Processing Batch 46\n",
            "Processing Batch 47\n",
            "Processing Batch 48\n",
            "Processing Batch 49\n",
            "Processing Batch 50\n",
            "Processing Batch 51\n",
            "Processing Batch 52\n",
            "Processing Batch 53\n",
            "Processing Batch 54\n",
            "Processing Batch 55\n",
            "Processing Batch 56\n",
            "Processing Batch 57\n",
            "Processing Batch 58\n",
            "Processing Batch 59\n",
            "Processing Batch 60\n",
            "Processing Batch 61\n",
            "Processing Batch 62\n",
            "Processing Batch 63\n",
            "Processing Batch 64\n",
            "Processing Batch 65\n",
            "Processing Batch 66\n",
            "Processing Batch 67\n",
            "Processing Batch 68\n",
            "Processing Batch 69\n",
            "Processing Batch 70\n",
            "Processing Batch 71\n",
            "Processing Batch 72\n",
            "Processing Batch 73\n",
            "Processing Batch 74\n",
            "Processing Batch 75\n",
            "Processing Batch 76\n",
            "Processing Batch 77\n",
            "Processing Batch 78\n",
            "Processing Batch 79\n",
            "Processing Batch 80\n",
            "Processing Batch 81\n",
            "Processing Batch 82\n",
            "Processing Batch 83\n",
            "Processing Batch 84\n",
            "Processing Batch 85\n",
            "Processing Batch 86\n",
            "Processing Batch 87\n",
            "Processing Batch 88\n",
            "Processing Batch 89\n",
            "Processing Batch 90\n",
            "Processing Batch 91\n",
            "Processing Batch 92\n",
            "Processing Batch 93\n",
            "Processing Batch 94\n",
            "Processing Batch 95\n",
            "Processing Batch 96\n",
            "Processing Batch 97\n",
            "Processing Batch 98\n",
            "Processing Batch 99\n",
            "Processing Batch 100\n",
            "Processing Batch 101\n",
            "Processing Batch 102\n",
            "Processing Batch 103\n",
            "Processing Batch 104\n",
            "Processing Batch 105\n",
            "Processing Batch 106\n",
            "Processing Batch 107\n",
            "Processing Batch 108\n",
            "Processing Batch 109\n",
            "Processing Batch 110\n",
            "Processing Batch 111\n",
            "Processing Batch 112\n",
            "Processing Batch 113\n",
            "Processing Batch 114\n",
            "Processing Batch 115\n",
            "Processing Batch 116\n",
            "Processing Batch 117\n",
            "Processing Batch 118\n",
            "Processing Batch 119\n",
            "Processing Batch 120\n",
            "done!\n",
            "\n",
            "## Fetching Activations from Layer relu2\n",
            "Processing Batch 0\n",
            "Processing Batch 1\n",
            "Processing Batch 2\n",
            "Processing Batch 3\n",
            "Processing Batch 4\n",
            "Processing Batch 5\n",
            "Processing Batch 6\n",
            "Processing Batch 7\n",
            "Processing Batch 8\n",
            "Processing Batch 9\n",
            "Processing Batch 10\n",
            "Processing Batch 11\n",
            "Processing Batch 12\n",
            "Processing Batch 13\n",
            "Processing Batch 14\n",
            "Processing Batch 15\n",
            "Processing Batch 16\n",
            "Processing Batch 17\n",
            "Processing Batch 18\n",
            "Processing Batch 19\n",
            "Processing Batch 20\n",
            "Processing Batch 21\n",
            "Processing Batch 22\n",
            "Processing Batch 23\n",
            "Processing Batch 24\n",
            "Processing Batch 25\n",
            "Processing Batch 26\n",
            "Processing Batch 27\n",
            "Processing Batch 28\n",
            "Processing Batch 29\n",
            "Processing Batch 30\n",
            "Processing Batch 31\n",
            "Processing Batch 32\n",
            "Processing Batch 33\n",
            "Processing Batch 34\n",
            "Processing Batch 35\n",
            "Processing Batch 36\n",
            "Processing Batch 37\n",
            "Processing Batch 38\n",
            "Processing Batch 39\n",
            "Processing Batch 40\n",
            "Processing Batch 41\n",
            "Processing Batch 42\n",
            "Processing Batch 43\n",
            "Processing Batch 44\n",
            "Processing Batch 45\n",
            "Processing Batch 46\n",
            "Processing Batch 47\n",
            "Processing Batch 48\n",
            "Processing Batch 49\n",
            "Processing Batch 50\n",
            "Processing Batch 51\n",
            "Processing Batch 52\n",
            "Processing Batch 53\n",
            "Processing Batch 54\n",
            "Processing Batch 55\n",
            "Processing Batch 56\n",
            "Processing Batch 57\n",
            "Processing Batch 58\n",
            "Processing Batch 59\n",
            "Processing Batch 60\n",
            "Processing Batch 61\n",
            "Processing Batch 62\n",
            "Processing Batch 63\n",
            "Processing Batch 64\n",
            "Processing Batch 65\n",
            "Processing Batch 66\n",
            "Processing Batch 67\n",
            "Processing Batch 68\n",
            "Processing Batch 69\n",
            "Processing Batch 70\n",
            "Processing Batch 71\n",
            "Processing Batch 72\n",
            "Processing Batch 73\n",
            "Processing Batch 74\n",
            "Processing Batch 75\n",
            "Processing Batch 76\n",
            "Processing Batch 77\n",
            "Processing Batch 78\n",
            "Processing Batch 79\n",
            "Processing Batch 80\n",
            "Processing Batch 81\n",
            "Processing Batch 82\n",
            "Processing Batch 83\n",
            "Processing Batch 84\n",
            "Processing Batch 85\n",
            "Processing Batch 86\n",
            "Processing Batch 87\n",
            "Processing Batch 88\n",
            "Processing Batch 89\n",
            "Processing Batch 90\n",
            "Processing Batch 91\n",
            "Processing Batch 92\n",
            "Processing Batch 93\n",
            "Processing Batch 94\n",
            "Processing Batch 95\n",
            "Processing Batch 96\n",
            "Processing Batch 97\n",
            "Processing Batch 98\n",
            "Processing Batch 99\n",
            "Processing Batch 100\n",
            "Processing Batch 101\n",
            "Processing Batch 102\n",
            "Processing Batch 103\n",
            "Processing Batch 104\n",
            "Processing Batch 105\n",
            "Processing Batch 106\n",
            "Processing Batch 107\n",
            "Processing Batch 108\n",
            "Processing Batch 109\n",
            "Processing Batch 110\n",
            "Processing Batch 111\n",
            "Processing Batch 112\n",
            "Processing Batch 113\n",
            "Processing Batch 114\n",
            "Processing Batch 115\n",
            "Processing Batch 116\n",
            "Processing Batch 117\n",
            "Processing Batch 118\n",
            "Processing Batch 119\n",
            "Processing Batch 120\n",
            "done!\n",
            "\n",
            "## Fetching Activations from Layer relu3\n",
            "Processing Batch 0\n",
            "Processing Batch 1\n",
            "Processing Batch 2\n",
            "Processing Batch 3\n",
            "Processing Batch 4\n",
            "Processing Batch 5\n",
            "Processing Batch 6\n",
            "Processing Batch 7\n",
            "Processing Batch 8\n",
            "Processing Batch 9\n",
            "Processing Batch 10\n",
            "Processing Batch 11\n",
            "Processing Batch 12\n",
            "Processing Batch 13\n",
            "Processing Batch 14\n",
            "Processing Batch 15\n",
            "Processing Batch 16\n",
            "Processing Batch 17\n",
            "Processing Batch 18\n",
            "Processing Batch 19\n",
            "Processing Batch 20\n",
            "Processing Batch 21\n",
            "Processing Batch 22\n",
            "Processing Batch 23\n",
            "Processing Batch 24\n",
            "Processing Batch 25\n",
            "Processing Batch 26\n",
            "Processing Batch 27\n",
            "Processing Batch 28\n",
            "Processing Batch 29\n",
            "Processing Batch 30\n",
            "Processing Batch 31\n",
            "Processing Batch 32\n",
            "Processing Batch 33\n",
            "Processing Batch 34\n",
            "Processing Batch 35\n",
            "Processing Batch 36\n",
            "Processing Batch 37\n",
            "Processing Batch 38\n",
            "Processing Batch 39\n",
            "Processing Batch 40\n",
            "Processing Batch 41\n",
            "Processing Batch 42\n",
            "Processing Batch 43\n",
            "Processing Batch 44\n",
            "Processing Batch 45\n",
            "Processing Batch 46\n",
            "Processing Batch 47\n",
            "Processing Batch 48\n",
            "Processing Batch 49\n",
            "Processing Batch 50\n",
            "Processing Batch 51\n",
            "Processing Batch 52\n",
            "Processing Batch 53\n",
            "Processing Batch 54\n",
            "Processing Batch 55\n",
            "Processing Batch 56\n",
            "Processing Batch 57\n",
            "Processing Batch 58\n",
            "Processing Batch 59\n",
            "Processing Batch 60\n",
            "Processing Batch 61\n",
            "Processing Batch 62\n",
            "Processing Batch 63\n",
            "Processing Batch 64\n",
            "Processing Batch 65\n",
            "Processing Batch 66\n",
            "Processing Batch 67\n",
            "Processing Batch 68\n",
            "Processing Batch 69\n",
            "Processing Batch 70\n",
            "Processing Batch 71\n",
            "Processing Batch 72\n",
            "Processing Batch 73\n",
            "Processing Batch 74\n",
            "Processing Batch 75\n",
            "Processing Batch 76\n",
            "Processing Batch 77\n",
            "Processing Batch 78\n",
            "Processing Batch 79\n",
            "Processing Batch 80\n",
            "Processing Batch 81\n",
            "Processing Batch 82\n",
            "Processing Batch 83\n",
            "Processing Batch 84\n",
            "Processing Batch 85\n",
            "Processing Batch 86\n",
            "Processing Batch 87\n",
            "Processing Batch 88\n",
            "Processing Batch 89\n",
            "Processing Batch 90\n",
            "Processing Batch 91\n",
            "Processing Batch 92\n",
            "Processing Batch 93\n",
            "Processing Batch 94\n",
            "Processing Batch 95\n",
            "Processing Batch 96\n",
            "Processing Batch 97\n",
            "Processing Batch 98\n",
            "Processing Batch 99\n",
            "Processing Batch 100\n",
            "Processing Batch 101\n",
            "Processing Batch 102\n",
            "Processing Batch 103\n",
            "Processing Batch 104\n",
            "Processing Batch 105\n",
            "Processing Batch 106\n",
            "Processing Batch 107\n",
            "Processing Batch 108\n",
            "Processing Batch 109\n",
            "Processing Batch 110\n",
            "Processing Batch 111\n",
            "Processing Batch 112\n",
            "Processing Batch 113\n",
            "Processing Batch 114\n",
            "Processing Batch 115\n",
            "Processing Batch 116\n",
            "Processing Batch 117\n",
            "Processing Batch 118\n",
            "Processing Batch 119\n",
            "Processing Batch 120\n",
            "done!\n",
            "\n",
            "## Fetching Activations from Layer fc\n",
            "Processing Batch 0\n",
            "Processing Batch 1\n",
            "Processing Batch 2\n",
            "Processing Batch 3\n",
            "Processing Batch 4\n",
            "Processing Batch 5\n",
            "Processing Batch 6\n",
            "Processing Batch 7\n",
            "Processing Batch 8\n",
            "Processing Batch 9\n",
            "Processing Batch 10\n",
            "Processing Batch 11\n",
            "Processing Batch 12\n",
            "Processing Batch 13\n",
            "Processing Batch 14\n",
            "Processing Batch 15\n",
            "Processing Batch 16\n",
            "Processing Batch 17\n",
            "Processing Batch 18\n",
            "Processing Batch 19\n",
            "Processing Batch 20\n",
            "Processing Batch 21\n",
            "Processing Batch 22\n",
            "Processing Batch 23\n",
            "Processing Batch 24\n",
            "Processing Batch 25\n",
            "Processing Batch 26\n",
            "Processing Batch 27\n",
            "Processing Batch 28\n",
            "Processing Batch 29\n",
            "Processing Batch 30\n",
            "Processing Batch 31\n",
            "Processing Batch 32\n",
            "Processing Batch 33\n",
            "Processing Batch 34\n",
            "Processing Batch 35\n",
            "Processing Batch 36\n",
            "Processing Batch 37\n",
            "Processing Batch 38\n",
            "Processing Batch 39\n",
            "Processing Batch 40\n",
            "Processing Batch 41\n",
            "Processing Batch 42\n",
            "Processing Batch 43\n",
            "Processing Batch 44\n",
            "Processing Batch 45\n",
            "Processing Batch 46\n",
            "Processing Batch 47\n",
            "Processing Batch 48\n",
            "Processing Batch 49\n",
            "Processing Batch 50\n",
            "Processing Batch 51\n",
            "Processing Batch 52\n",
            "Processing Batch 53\n",
            "Processing Batch 54\n",
            "Processing Batch 55\n",
            "Processing Batch 56\n",
            "Processing Batch 57\n",
            "Processing Batch 58\n",
            "Processing Batch 59\n",
            "Processing Batch 60\n",
            "Processing Batch 61\n",
            "Processing Batch 62\n",
            "Processing Batch 63\n",
            "Processing Batch 64\n",
            "Processing Batch 65\n",
            "Processing Batch 66\n",
            "Processing Batch 67\n",
            "Processing Batch 68\n",
            "Processing Batch 69\n",
            "Processing Batch 70\n",
            "Processing Batch 71\n",
            "Processing Batch 72\n",
            "Processing Batch 73\n",
            "Processing Batch 74\n",
            "Processing Batch 75\n",
            "Processing Batch 76\n",
            "Processing Batch 77\n",
            "Processing Batch 78\n",
            "Processing Batch 79\n",
            "Processing Batch 80\n",
            "Processing Batch 81\n",
            "Processing Batch 82\n",
            "Processing Batch 83\n",
            "Processing Batch 84\n",
            "Processing Batch 85\n",
            "Processing Batch 86\n",
            "Processing Batch 87\n",
            "Processing Batch 88\n",
            "Processing Batch 89\n",
            "Processing Batch 90\n",
            "Processing Batch 91\n",
            "Processing Batch 92\n",
            "Processing Batch 93\n",
            "Processing Batch 94\n",
            "Processing Batch 95\n",
            "Processing Batch 96\n",
            "Processing Batch 97\n",
            "Processing Batch 98\n",
            "Processing Batch 99\n",
            "Processing Batch 100\n",
            "Processing Batch 101\n",
            "Processing Batch 102\n",
            "Processing Batch 103\n",
            "Processing Batch 104\n",
            "Processing Batch 105\n",
            "Processing Batch 106\n",
            "Processing Batch 107\n",
            "Processing Batch 108\n",
            "Processing Batch 109\n",
            "Processing Batch 110\n",
            "Processing Batch 111\n",
            "Processing Batch 112\n",
            "Processing Batch 113\n",
            "Processing Batch 114\n",
            "Processing Batch 115\n",
            "Processing Batch 116\n",
            "Processing Batch 117\n",
            "Processing Batch 118\n",
            "Processing Batch 119\n",
            "Processing Batch 120\n",
            "done!\n",
            "\n",
            "## Constructing the NearestNeighbor tables\n",
            "Constructing table for relu1\n",
            "Constructing table for relu2\n",
            "Constructing table for relu3\n",
            "Constructing table for fc\n",
            "done!\n",
            "\n"
          ],
          "name": "stdout"
        }
      ]
    },
    {
      "cell_type": "markdown",
      "metadata": {
        "id": "pz04V-f_6IFi"
      },
      "source": [
        "Then, calibrate."
      ]
    },
    {
      "cell_type": "code",
      "metadata": {
        "id": "r4lBatc9sX7V",
        "colab": {
          "base_uri": "https://localhost:8080/"
        },
        "outputId": "9face9d7-52a9-4db0-c38d-5829c3d92c56"
      },
      "source": [
        "dknn.calibrate(calibloader)"
      ],
      "execution_count": null,
      "outputs": [
        {
          "output_type": "stream",
          "text": [
            "---------- DkNN calibrate\n",
            "\n",
            "## Fetching Activations from Layer relu1\n",
            "Processing Batch 0\n",
            "done!\n",
            "\n",
            "## Fetching Activations from Layer relu2\n",
            "Processing Batch 0\n",
            "done!\n",
            "\n",
            "## Fetching Activations from Layer relu3\n",
            "Processing Batch 0\n",
            "done!\n",
            "\n",
            "## Fetching Activations from Layer fc\n",
            "Processing Batch 0\n",
            "done!\n",
            "\n",
            "## Starting calibration of DkNN\n"
          ],
          "name": "stdout"
        },
        {
          "output_type": "stream",
          "text": [
            "/usr/local/lib/python3.7/dist-packages/ipykernel_launcher.py:70: DeprecationWarning: `np.bool` is a deprecated alias for the builtin `bool`. To silence this warning, use `bool` by itself. Doing this will not modify any behavior and is safe. If you specifically wanted the numpy scalar type, use `np.bool_` here.\n",
            "Deprecated in NumPy 1.20; for more details and guidance: https://numpy.org/devdocs/release/1.20.0-notes.html#deprecations\n"
          ],
          "name": "stderr"
        },
        {
          "output_type": "stream",
          "text": [
            "DkNN calibration complete\n"
          ],
          "name": "stdout"
        }
      ]
    },
    {
      "cell_type": "markdown",
      "metadata": {
        "id": "YPDIvU3e6R7S"
      },
      "source": [
        "Create DkNN predictions for the misclassified training set."
      ]
    },
    {
      "cell_type": "code",
      "metadata": {
        "id": "iBvxIYUeFNla"
      },
      "source": [
        "import numpy as np\n",
        "\n",
        "mc_data = torch.Tensor(misclassified_train_data.float()).reshape(-1,1,28,28)\n",
        "mc_label = torch.Tensor(misclassified_train_label.float())\n",
        "ds = TensorDataset(mc_data,mc_label)\n",
        "\n",
        "tss = torch.utils.data.DataLoader(ds, batch_size=batch_size_test, shuffle=False, num_workers=2)"
      ],
      "execution_count": null,
      "outputs": []
    },
    {
      "cell_type": "code",
      "metadata": {
        "id": "ld9j-fomGMm0",
        "colab": {
          "base_uri": "https://localhost:8080/"
        },
        "outputId": "380b091d-3afc-47c5-c0ce-111b91ed90bc"
      },
      "source": [
        "dknn_preds_testset, test_targets,preds_knn, confs = dknn.fprop(tss)\n",
        "\n",
        "#dknn_preds_testset1, test_targets1 = dknn.fprop(testloader)\n",
        "\n",
        "\n",
        "print()\n",
        "print('---------------------------------------------')\n",
        "print('preds:   {}'.format(dknn_preds_testset.shape))\n",
        "print('targets: {}'.format(test_targets.shape))"
      ],
      "execution_count": null,
      "outputs": [
        {
          "output_type": "stream",
          "text": [
            "---------- DkNN predict\n",
            "\n",
            "## Fetching Activations from Layer relu1\n",
            "Processing Batch 0\n",
            "done!\n",
            "\n",
            "## Fetching Activations from Layer relu2\n",
            "Processing Batch 0\n",
            "done!\n",
            "\n",
            "## Fetching Activations from Layer relu3\n",
            "Processing Batch 0\n",
            "done!\n",
            "\n",
            "## Fetching Activations from Layer fc\n",
            "Processing Batch 0\n",
            "done!\n",
            "\n"
          ],
          "name": "stdout"
        },
        {
          "output_type": "stream",
          "text": [
            "/usr/local/lib/python3.7/dist-packages/ipykernel_launcher.py:70: DeprecationWarning: `np.bool` is a deprecated alias for the builtin `bool`. To silence this warning, use `bool` by itself. Doing this will not modify any behavior and is safe. If you specifically wanted the numpy scalar type, use `np.bool_` here.\n",
            "Deprecated in NumPy 1.20; for more details and guidance: https://numpy.org/devdocs/release/1.20.0-notes.html#deprecations\n"
          ],
          "name": "stderr"
        },
        {
          "output_type": "stream",
          "text": [
            "Nonconformity calculated\n",
            "Predictions created\n",
            "\n",
            "---------------------------------------------\n",
            "preds:   (414, 10)\n",
            "targets: (414,)\n"
          ],
          "name": "stdout"
        }
      ]
    },
    {
      "cell_type": "code",
      "metadata": {
        "colab": {
          "base_uri": "https://localhost:8080/"
        },
        "id": "ZEdKZj5Ze5eg",
        "outputId": "a8406fd1-292f-422a-f1e6-735a505ba486"
      },
      "source": [
        "misclassified_train_idx[-50:] #All poisoned data points are misclassifed along with other training points"
      ],
      "execution_count": null,
      "outputs": [
        {
          "output_type": "execute_result",
          "data": {
            "text/plain": [
              "array([60000, 60001, 60002, 60003, 60004, 60005, 60006, 60007, 60008,\n",
              "       60009, 60010, 60011, 60012, 60013, 60014, 60015, 60016, 60017,\n",
              "       60018, 60019, 60020, 60021, 60022, 60023, 60024, 60025, 60026,\n",
              "       60027, 60028, 60029, 60030, 60031, 60032, 60033, 60034, 60035,\n",
              "       60036, 60037, 60038, 60039, 60040, 60041, 60042, 60043, 60044,\n",
              "       60045, 60046, 60047, 60048, 60049])"
            ]
          },
          "metadata": {
            "tags": []
          },
          "execution_count": 39
        }
      ]
    },
    {
      "cell_type": "code",
      "metadata": {
        "id": "0TGkh5x_uWAQ",
        "colab": {
          "base_uri": "https://localhost:8080/",
          "height": 493
        },
        "outputId": "151f98d2-3f55-42fd-859c-dcdcaa60bb85"
      },
      "source": [
        "credibility = np.max(dknn_preds_testset,axis=1)\n",
        "plt.figure()\n",
        "fig,ax = plt.subplots(1,2)\n",
        "fig.set_size_inches(14,7)\n",
        "ax[0].set_title('Poisoned+NonPoisoned misclassified points')\n",
        "ax[0].plot(range(len(credibility)),credibility,'r.')\n",
        "ax[0].set_ylabel('credibility scores for misclassified points')\n",
        "ax[0].set_xlabel('(Last 50 are poisoned data)')\n",
        "\n",
        "ax[1].plot(range(50),credibility[-50:],'r.')\n",
        "ax[1].set_ylabel('credibility scores for poisoned points')\n",
        "ax[1].set_title('Misclassified Poisoned data points')"
      ],
      "execution_count": null,
      "outputs": [
        {
          "output_type": "execute_result",
          "data": {
            "text/plain": [
              "Text(0.5, 1.0, 'Misclassified Poisoned data points')"
            ]
          },
          "metadata": {
            "tags": []
          },
          "execution_count": 40
        },
        {
          "output_type": "display_data",
          "data": {
            "text/plain": [
              "<Figure size 432x288 with 0 Axes>"
            ]
          },
          "metadata": {
            "tags": []
          }
        },
        {
          "output_type": "display_data",
          "data": {
            "image/png": "[encoded data removed]",
            "text/plain": [
              "<Figure size 1008x504 with 2 Axes>"
            ]
          },
          "metadata": {
            "tags": [],
            "needs_background": "light"
          }
        }
      ]
    },
    {
      "cell_type": "markdown",
      "metadata": {
        "id": "MedZg_IEfaWY"
      },
      "source": [
        "We see a low variance overall in the credibility score assigned for misclassified poisoned training points and also max credibility is very low compared to other misclassified training points. However, this is due in large part to poisoned dataset being appeneded at the end of the training set. However, we can see that fixing a credibility threshold of 20% in this case may help us narrow down the potential poisoning points. Repeated expirements have confirmed that the variance and credibility assigned among poisoned points is very low."
      ]
    },
    {
      "cell_type": "code",
      "metadata": {
        "id": "K8I-0Pd_ujcI",
        "colab": {
          "base_uri": "https://localhost:8080/",
          "height": 387
        },
        "outputId": "7102f2d5-de09-4552-afd9-942370e73a7d"
      },
      "source": [
        "plt.figure()\n",
        "plt.hist(credibility,15)"
      ],
      "execution_count": null,
      "outputs": [
        {
          "output_type": "execute_result",
          "data": {
            "text/plain": [
              "(array([224.,  60.,  45.,  19.,  11.,  20.,   4.,   7.,   4.,   2.,   5.,\n",
              "          5.,   4.,   1.,   3.]),\n",
              " array([0.0247678 , 0.06873065, 0.1126935 , 0.15665635, 0.20061919,\n",
              "        0.24458204, 0.2885449 , 0.33250776, 0.3764706 , 0.42043343,\n",
              "        0.4643963 , 0.50835913, 0.552322  , 0.59628487, 0.6402477 ,\n",
              "        0.68421054], dtype=float32),\n",
              " <a list of 15 Patch objects>)"
            ]
          },
          "metadata": {
            "tags": []
          },
          "execution_count": 41
        },
        {
          "output_type": "display_data",
          "data": {
            "image/png": "[encoded data removed]",
            "text/plain": [
              "<Figure size 432x288 with 1 Axes>"
            ]
          },
          "metadata": {
            "tags": [],
            "needs_background": "light"
          }
        }
      ]
    },
    {
      "cell_type": "markdown",
      "metadata": {
        "id": "sa7OpFM76hQU"
      },
      "source": [
        "Let's plot the result. `plot-reliability_diagram` produces a warning regarding taking a mean of an empty list. According to the discussion on [here](https://stackoverflow.com/questions/29688168/mean-nanmean-and-warning-mean-of-empty-slice) we probably can ignore that warning."
      ]
    },
    {
      "cell_type": "code",
      "metadata": {
        "id": "EGDlrx9LPVhP",
        "colab": {
          "base_uri": "https://localhost:8080/",
          "height": 314
        },
        "outputId": "c6132ce3-dd7c-487d-99a2-5ef4089ec6d4"
      },
      "source": [
        "with warnings.catch_warnings():\n",
        "    warnings.simplefilter(\"ignore\", category=RuntimeWarning)\n",
        "    plot_reliability_diagram(dknn_preds_testset, test_targets)"
      ],
      "execution_count": null,
      "outputs": [
        {
          "output_type": "stream",
          "text": [
            "(414,) (414,)\n"
          ],
          "name": "stdout"
        },
        {
          "output_type": "display_data",
          "data": {
            "image/png": "[encoded data removed]",
            "text/plain": [
              "<Figure size 432x288 with 2 Axes>"
            ]
          },
          "metadata": {
            "tags": [],
            "needs_background": "light"
          }
        }
      ]
    },
    {
      "cell_type": "markdown",
      "metadata": {
        "id": "7isjmfEH7JVp"
      },
      "source": [
        "Create DkNN predictions for the adversarial set."
      ]
    },
    {
      "cell_type": "code",
      "metadata": {
        "colab": {
          "base_uri": "https://localhost:8080/"
        },
        "id": "yTeU4pQCieMJ",
        "outputId": "a5c6353c-3ee1-4761-d15b-7a5870f7853a"
      },
      "source": [
        "train_labels"
      ],
      "execution_count": null,
      "outputs": [
        {
          "output_type": "execute_result",
          "data": {
            "text/plain": [
              "array([5, 0, 4, ..., 9, 1, 1])"
            ]
          },
          "metadata": {
            "tags": []
          },
          "execution_count": 44
        }
      ]
    },
    {
      "cell_type": "code",
      "metadata": {
        "id": "5junBsjrhh8f"
      },
      "source": [
        "misclassified_dknn_labels = preds_knn\n",
        "pred_label_for_misclassified = pred_label[misclassified_train_idx] \n",
        "true_label_misclassified = train_labels[misclassified_train_idx]"
      ],
      "execution_count": null,
      "outputs": []
    },
    {
      "cell_type": "code",
      "metadata": {
        "colab": {
          "base_uri": "https://localhost:8080/"
        },
        "id": "b0sL3jOoiolm",
        "outputId": "9d534b8d-5878-4048-9b4a-ad7f66447dbc"
      },
      "source": [
        "# Barring non-poisoned data set\n",
        "num_of_correct_labels_predicted_dkNN = np.sum(misclassified_dknn_labels[:-50]==true_label_misclassified[:-50])\n",
        "print('total num of misclassified points:',len(misclassified_train_data[:-50]),'number of labels recovered by DkNN:',num_of_correct_labels_predicted_dkNN)"
      ],
      "execution_count": null,
      "outputs": [
        {
          "output_type": "stream",
          "text": [
            "total num of misclassified points: 364 number of labels recovered by DkNN: 213\n"
          ],
          "name": "stdout"
        }
      ]
    },
    {
      "cell_type": "markdown",
      "metadata": {
        "id": "JS35VJehkW4x"
      },
      "source": [
        ""
      ]
    },
    {
      "cell_type": "code",
      "metadata": {
        "colab": {
          "base_uri": "https://localhost:8080/",
          "height": 282
        },
        "id": "MHgJiRnwkrvU",
        "outputId": "ca4e0c6b-1e36-4849-84b2-54f092afdb26"
      },
      "source": [
        "index_of_recovered = np.where(misclassified_dknn_labels==true_label_misclassified)[0]\n",
        "credibility_of_recovered=credibility[index_of_recovered]\n",
        "plt.figure()\n",
        "plt.plot(credibility_of_recovered,'r.')"
      ],
      "execution_count": null,
      "outputs": [
        {
          "output_type": "execute_result",
          "data": {
            "text/plain": [
              "[<matplotlib.lines.Line2D at 0x7fbc84a427d0>]"
            ]
          },
          "metadata": {
            "tags": []
          },
          "execution_count": 53
        },
        {
          "output_type": "display_data",
          "data": {
            "image/png": "[encoded data removed]",
            "text/plain": [
              "<Figure size 432x288 with 1 Axes>"
            ]
          },
          "metadata": {
            "tags": [],
            "needs_background": "light"
          }
        }
      ]
    },
    {
      "cell_type": "markdown",
      "metadata": {
        "id": "LWEx7e4wlRMG"
      },
      "source": [
        "However, their credibility has high variance"
      ]
    },
    {
      "cell_type": "markdown",
      "metadata": {
        "id": "8ooiyDrxp7FF"
      },
      "source": [
        "Identify the closest training points at each layer for the misclassified points"
      ]
    },
    {
      "cell_type": "code",
      "metadata": {
        "colab": {
          "base_uri": "https://localhost:8080/"
        },
        "id": "8bGVWVtq9QHR",
        "outputId": "7801b378-b69f-4453-a86f-95e7c86e6d86"
      },
      "source": [
        "true_label_poisoned_data = np.where(train_labels[-50:]==9,1,9)\n",
        "true_label_poisoned_data"
      ],
      "execution_count": null,
      "outputs": [
        {
          "output_type": "execute_result",
          "data": {
            "text/plain": [
              "array([1, 9, 9, 1, 9, 1, 1, 9, 1, 1, 1, 1, 9, 1, 9, 9, 9, 9, 9, 1, 9, 9,\n",
              "       9, 9, 9, 1, 1, 1, 9, 1, 1, 9, 1, 1, 1, 1, 9, 1, 1, 9, 1, 1, 1, 9,\n",
              "       9, 9, 9, 1, 9, 9])"
            ]
          },
          "metadata": {
            "tags": []
          },
          "execution_count": 56
        }
      ]
    },
    {
      "cell_type": "code",
      "metadata": {
        "colab": {
          "base_uri": "https://localhost:8080/"
        },
        "id": "emfELXgU9ZV7",
        "outputId": "4067a541-b5ed-41ce-809c-1bc213a9566f"
      },
      "source": [
        "poisoned_correct_labels_recovered_dkNN = np.sum(misclassified_dknn_labels[-50:]==true_label_poisoned_data)\n",
        "print('total num of poisoned points:',len(true_label_poisoned_data),'number of poisoned labels recovered by DkNN:',poisoned_correct_labels_recovered_dkNN)"
      ],
      "execution_count": null,
      "outputs": [
        {
          "output_type": "stream",
          "text": [
            "total num of poisoned points: 50 number of poisoned labels recovered by DkNN: 3\n"
          ],
          "name": "stdout"
        }
      ]
    },
    {
      "cell_type": "code",
      "metadata": {
        "id": "Mn16mBzdEnfk",
        "colab": {
          "base_uri": "https://localhost:8080/"
        },
        "outputId": "b1af09f1-b7f4-4872-e896-a60fb2a4ec7c"
      },
      "source": [
        "activations = get_activations(tss, model, layers)\n",
        "data_activations = activations['activations']\n",
        "knn_idx, knns_labels = dknn.find_train_knns(data_activations)"
      ],
      "execution_count": null,
      "outputs": [
        {
          "output_type": "stream",
          "text": [
            "## Fetching Activations from Layer relu1\n",
            "Processing Batch 0\n",
            "done!\n",
            "\n",
            "## Fetching Activations from Layer relu2\n",
            "Processing Batch 0\n",
            "done!\n",
            "\n",
            "## Fetching Activations from Layer relu3\n",
            "Processing Batch 0\n",
            "done!\n",
            "\n",
            "## Fetching Activations from Layer fc\n",
            "Processing Batch 0\n",
            "done!\n",
            "\n"
          ],
          "name": "stdout"
        },
        {
          "output_type": "stream",
          "text": [
            "/usr/local/lib/python3.7/dist-packages/ipykernel_launcher.py:70: DeprecationWarning: `np.bool` is a deprecated alias for the builtin `bool`. To silence this warning, use `bool` by itself. Doing this will not modify any behavior and is safe. If you specifically wanted the numpy scalar type, use `np.bool_` here.\n",
            "Deprecated in NumPy 1.20; for more details and guidance: https://numpy.org/devdocs/release/1.20.0-notes.html#deprecations\n"
          ],
          "name": "stderr"
        }
      ]
    },
    {
      "cell_type": "markdown",
      "metadata": {
        "id": "FWFBvX8gs8mf"
      },
      "source": [
        "To find the influence of poisoned training data points in causing the DNN to misclassify\n",
        "\n",
        "*   Find the % of poisoned data points in the nearest neigbhours of the misclassifed training points at each layer\n",
        "\n",
        "\n"
      ]
    },
    {
      "cell_type": "code",
      "metadata": {
        "colab": {
          "base_uri": "https://localhost:8080/"
        },
        "id": "NTby5lnctFl0",
        "outputId": "e2d9a8b8-5032-4c72-9644-8d5b83073092"
      },
      "source": [
        "# As we know the last 50 are poisoned data, we can make use of this knowledge\n",
        "poisoned_data_indicies = misclassified_train_idx[-50:]\n",
        "min_poisoned_data_indicies = poisoned_data_indicies.min()\n",
        "min_poisoned_data_indicies"
      ],
      "execution_count": null,
      "outputs": [
        {
          "output_type": "execute_result",
          "data": {
            "text/plain": [
              "60000"
            ]
          },
          "metadata": {
            "tags": []
          },
          "execution_count": 49
        }
      ]
    },
    {
      "cell_type": "code",
      "metadata": {
        "colab": {
          "base_uri": "https://localhost:8080/"
        },
        "id": "vUA_4sigtd06",
        "outputId": "29b6dfad-b35c-454c-8c13-6af48419be5f"
      },
      "source": [
        "nearest_poisoned_neighbours = 0\n",
        "for layer,nearest_neighbours in knn_idx.items():\n",
        "  nearest_poisoned_neighbours += np.sum(nearest_neighbours.flatten() > min_poisoned_data_indicies)\n",
        "print('Number of nearest training points that were poisoned data:',nearest_poisoned_neighbours)"
      ],
      "execution_count": null,
      "outputs": [
        {
          "output_type": "stream",
          "text": [
            "Number of nearest training points that were poisoned data: 0\n"
          ],
          "name": "stdout"
        }
      ]
    },
    {
      "cell_type": "markdown",
      "metadata": {
        "id": "SbxZ0_Dq7i7a"
      },
      "source": [
        "Authors had suggested we can identify poisoned data points among the training points that were responsible for misclassification. However, in our experiments poisoned data points were not the nearest neighbours(k=75) for any misclassified training data."
      ]
    },
    {
      "cell_type": "code",
      "metadata": {
        "id": "pa9eqZHQugba"
      },
      "source": [
        ""
      ],
      "execution_count": null,
      "outputs": []
    }
  ]
}